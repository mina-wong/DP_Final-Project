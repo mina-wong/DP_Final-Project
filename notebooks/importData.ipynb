{
 "cells": [
  {
   "cell_type": "markdown",
   "metadata": {},
   "source": [
    "Extracts raw patent data from espacenet. Variables \"startYear\", \"endYear\", and regionCode can be toggled as needed. Returns json files holding monthly data in /data/jsonRaw."
   ]
  },
  {
   "cell_type": "code",
   "execution_count": 1,
   "metadata": {},
   "outputs": [],
   "source": [
    "# Cell 1\n",
    "\n",
    "import requests\n",
    "import os\n",
    "import calendar\n",
    "import pickle"
   ]
  },
  {
   "cell_type": "markdown",
   "metadata": {},
   "source": [
    "Variables to adjust parameters for the API call to Espacenet. Year dates are inclusive."
   ]
  },
  {
   "cell_type": "code",
   "execution_count": 2,
   "metadata": {},
   "outputs": [],
   "source": [
    "# Cell 2\n",
    "\n",
    "startYear = 2017\n",
    "endYear = 2023\n",
    "\n",
    "regionCode = \"TN\"\n",
    "marker = \"\""
   ]
  },
  {
   "cell_type": "markdown",
   "metadata": {},
   "source": [
    "Defines functions that generate a list of tuples containing the date pairs. Used as inputs for the API request.  "
   ]
  },
  {
   "cell_type": "code",
   "execution_count": 3,
   "metadata": {},
   "outputs": [],
   "source": [
    "# Cell 3 \n",
    "\n",
    "# MONTHLY\n",
    "\n",
    "def generateDates(year):\n",
    "\n",
    "    # Generates a list[12] of tuples containing the first and last date of each month given a certain year.\n",
    "\n",
    "    month_ranges = []\n",
    "    for month in range(1,13):\n",
    "        _,last_day = calendar.monthrange(year,month)\n",
    "        first_day = f\"{year}-{month:02d}-01\"\n",
    "        last_day = f\"{year}-{month:02d}-{last_day:02d}\"\n",
    "        month_ranges.append((first_day, last_day))\n",
    "    return month_ranges\n",
    "\n",
    "# BI-MONTLY\n",
    "\n",
    "def generateDates_med(year):\n",
    "\n",
    "    # Generates a list[24] of tuples containing start and end dates spanning throughout the year. \n",
    "    # Each month is split into 2 parts. \n",
    "    # For example: [(2003-1-1, 2003-1-15),(2003-1-16, 2003-1-31), ...].\n",
    "    \n",
    "    month_ranges = []\n",
    "    for month in range(1,13):\n",
    "        \n",
    "        _,last_day = calendar.monthrange(year,month)\n",
    "        \n",
    "        start1_day = f\"{year}-{month:02d}-01\"\n",
    "        end1_day = f\"{year}-{month:02d}-15\"\n",
    "        start2_day = f\"{year}-{month:02d}-16\"\n",
    "        end2_day = f\"{year}-{month:02d}-{last_day:02d}\"\n",
    "        \n",
    "        month_ranges.append((start1_day, end1_day))\n",
    "        month_ranges.append((start2_day, end2_day))\n",
    "        \n",
    "    return month_ranges\n",
    "\n",
    "# WEEKLY\n",
    "\n",
    "def generateDates_large(year):\n",
    "\n",
    "    # Generates a list[48] of tuples containing the first and last date of each week given a certain year. \n",
    "    # For example: [(2003-01-01, 2003-01-07),(2003-01-08, 2003-01-15),(2003-01-16, 2003-01-23),\n",
    "    # (2003-01-24, 2003-01-31), ...].\n",
    "\n",
    "    month_ranges = []\n",
    "    for month in range(1,13):\n",
    "        \n",
    "        _,last_day = calendar.monthrange(year,month)\n",
    "        \n",
    "        # ensure all values are 2 places wide (e.g. 2023-01-07 instead of 2023-1-7)\n",
    "        \n",
    "        start1_day = f\"{year}-{month:02d}-01\"\n",
    "        end1_day = f\"{year}-{month:02d}-07\"\n",
    "        start2_day = f\"{year}-{month:02d}-08\"\n",
    "        end2_day = f\"{year}-{month:02d}-15\"\n",
    "        start3_day = f\"{year}-{month:02d}-16\"\n",
    "        end3_day = f\"{year}-{month:02d}-23\"\n",
    "        start4_day = f\"{year}-{month:02d}-24\"\n",
    "        end4_day = f\"{year}-{month:02d}-{last_day:02d}\"\n",
    "        \n",
    "        month_ranges.append((start1_day, end1_day))\n",
    "        month_ranges.append((start2_day, end2_day))\n",
    "        month_ranges.append((start3_day, end3_day))\n",
    "        month_ranges.append((start4_day, end4_day))\n",
    "        \n",
    "    return month_ranges"
   ]
  },
  {
   "cell_type": "markdown",
   "metadata": {},
   "source": [
    "Sets parameters used in the API call to Espacenet. Variable \"regionCode\" in line 60 can be adjusted in Cell 2 above. "
   ]
  },
  {
   "cell_type": "code",
   "execution_count": 4,
   "metadata": {},
   "outputs": [],
   "source": [
    "# Cell 4\n",
    "\n",
    "url = \"https://worldwide.espacenet.com/3.2/rest-services/search\"\n",
    "\n",
    "payload = {\n",
    "    \"query\": {\n",
    "        \"fields\": [\"publications.ti_*\", \"publications.abs_*\", \"publications.pn_docdb\", \"publications.in\", \"publications.inc\", \"publications.pa\", \"publications.pac\", \"publications.pd\", \"publications.pr_docdb\", \"publications.app_fdate.untouched\", \"publications.ipc_ic\", \"publications.ipc_icci\", \"publications.ipc_iccn\", \"publications.ipc_icai\", \"publications.ipc_ican\", \"publications.ci_cpci\", \"publications.ca_cpci\", \"publications.cl_cpci\", \"biblio:pa;pa_orig;pa_unstd;in;in_orig;in_unstd;pac;inc;pd;pn_docdb;allKindCodes;\", \"oprid_full.untouched\", \"opubd_full.untouched\"],\n",
    "        \"from\": 0,\n",
    "        \"size\": 1000,\n",
    "        \"highlighting\": [\n",
    "            {\n",
    "                \"field\": \"publications.ti_en\",\n",
    "                \"fragment_words_number\": 20,\n",
    "                \"number_of_fragments\": 3,\n",
    "                \"hits_only\": True\n",
    "            },\n",
    "            {\n",
    "                \"field\": \"publications.abs_en\",\n",
    "                \"fragment_words_number\": 20,\n",
    "                \"number_of_fragments\": 3,\n",
    "                \"hits_only\": True\n",
    "            },\n",
    "            {\n",
    "                \"field\": \"publications.ti_de\",\n",
    "                \"fragment_words_number\": 20,\n",
    "                \"number_of_fragments\": 3,\n",
    "                \"hits_only\": True\n",
    "            },\n",
    "            {\n",
    "                \"field\": \"publications.abs_de\",\n",
    "                \"fragment_words_number\": 20,\n",
    "                \"number_of_fragments\": 3,\n",
    "                \"hits_only\": True\n",
    "            },\n",
    "            {\n",
    "                \"field\": \"publications.ti_fr\",\n",
    "                \"fragment_words_number\": 20,\n",
    "                \"number_of_fragments\": 3,\n",
    "                \"hits_only\": True\n",
    "            },\n",
    "            {\n",
    "                \"field\": \"publications.abs_fr\",\n",
    "                \"fragment_words_number\": 20,\n",
    "                \"number_of_fragments\": 3,\n",
    "                \"hits_only\": True\n",
    "            },\n",
    "            {\n",
    "                \"field\": \"publications.pn_docdb\",\n",
    "                \"fragment_words_number\": 20,\n",
    "                \"number_of_fragments\": 3,\n",
    "                \"hits_only\": True\n",
    "            },\n",
    "            {\n",
    "                \"field\": \"publications.pa\",\n",
    "                \"fragment_words_number\": 20,\n",
    "                \"number_of_fragments\": 3,\n",
    "                \"hits_only\": True\n",
    "            }\n",
    "        ]\n",
    "    },\n",
    "    \"filters\": {\n",
    "        \"publications.pac\": [{\"value\": [regionCode]}],\n",
    "        \"publications.patent\": [{\"value\": [\"true\"]}]\n",
    "    },\n",
    "    \"widgets\": {}\n",
    "}\n",
    "\n",
    "headers = {\n",
    "    \"Accept\": \"application/json,application/i18n+xml\",\n",
    "    \"Accept-Language\": \"en-US,en;q=0.9\",\n",
    "    \"Connection\": \"keep-alive\",\n",
    "    \"Content-Type\": \"application/json\",\n",
    "    \"Cookie\": \"_pk_id.16.72ee=217bfd78d38df5fc.1703641654.; _pk_ref.16.72ee=%5B%22%22%2C%22%22%2C1703665558%2C%22https%3A%2F%2Fwww.google.com%2F%22%5D; _pk_ses.16.72ee=1\",\n",
    "    \"EPO-Trace-Id\": \"you8ki-tbjlcq-AAA-000000\",\n",
    "    \"Origin\": \"https://worldwide.espacenet.com\",\n",
    "    \"Referer\": \"https://worldwide.espacenet.com/patent/search?f=publications.pac%3Ain%3DHK&q=pd%20within%20%222020-01-01%2C%202020-12-31%22\",\n",
    "    \"Sec-Fetch-Dest\": \"empty\",\n",
    "    \"Sec-Fetch-Mode\": \"cors\",\n",
    "    \"Sec-Fetch-Site\": \"same-origin\",\n",
    "    \"User-Agent\": \"Mozilla/5.0 (Windows NT 10.0; Win64; x64) AppleWebKit/537.36 (KHTML, like Gecko) Chrome/104.0.5112.102 Safari/537.36\",\n",
    "    \"X-EPO-PQL-Profile\": \"cpci\",\n",
    "    \"sec-ch-ua\": \"\\\"Chromium\\\";v=\\\"104\\\", \\\"Not A;Brand\\\";v=\\\"99\\\", \\\"Google Chrome\\\";v=\\\"104\\\"\",\n",
    "    \"sec-ch-ua-mobile\": \"?0\",\n",
    "    \"sec-ch-ua-platform\": \"\\\"Windows\\\"\"\n",
    "}"
   ]
  },
  {
   "cell_type": "markdown",
   "metadata": {},
   "source": [
    "Iterates through each year to download monthly data using an API call to Espacenet. Appends patent information (in dicitonary form) to a list \"data\"."
   ]
  },
  {
   "cell_type": "code",
   "execution_count": 5,
   "metadata": {},
   "outputs": [
    {
     "name": "stdout",
     "output_type": "stream",
     "text": [
      "Starting download for year 2017...\n",
      "Starting download for year 2018...\n",
      "Starting download for year 2019...\n",
      "Starting download for year 2020...\n",
      "Starting download for year 2021...\n",
      "Starting download for year 2022...\n",
      "Starting download for year 2023...\n",
      "Done.\n"
     ]
    }
   ],
   "source": [
    "# Cell 5\n",
    "\n",
    "data = list()\n",
    "\n",
    "for year in range(startYear, endYear+1):\n",
    "    \n",
    "    print(\"Starting download for year\", str(year)+\"...\")\n",
    "    \n",
    "# !! comment out the functions you're not using (PICK ONE) !!\n",
    "\n",
    "    dates = generateDates(year)\n",
    "    # dates = generateDates_med(year)\n",
    "    # dates = generateDates_large(year)\n",
    "    \n",
    "    \n",
    "    # cycles through dates to make API request and extract data\n",
    "    for d in dates:\n",
    "      \n",
    "        # making the API request\n",
    "        querystring = {\"lang\":\"en,de,fr\",\"q\":\"pd within \\\"\"+d[0]+\", \"+d[1]+\"\\\"\",\"qlang\":\"cql\"}\n",
    "        response = requests.request(\"POST\", url, json=payload, headers=headers, params=querystring)\n",
    "        \n",
    "        resp = response.json()['hits']\n",
    "            \n",
    "        # prints file name if 1000 or more patents in the file. If file name prints, you need to re-import json data with smaller time-frames. Else some data will be lost.\n",
    "        if len(resp) >= 1000:\n",
    "            print(d)\n",
    "        else:\n",
    "            data += resp\n",
    "        \n",
    "print(\"Done.\")"
   ]
  },
  {
   "cell_type": "markdown",
   "metadata": {},
   "source": [
    "NOTE: Ensure that the number of hits in each json file is < 1000. There is a download limit of 1000 items, meaning some data has been lost.\n",
    "In this case pick/build a generate_dates function with shorter time frames."
   ]
  },
  {
   "cell_type": "markdown",
   "metadata": {},
   "source": [
    "Exports patent data as pickle file."
   ]
  },
  {
   "cell_type": "code",
   "execution_count": 8,
   "metadata": {},
   "outputs": [],
   "source": [
    "# Cell 6\n",
    "\n",
    "with open(os.getcwd()+f'/data/{regionCode}/rawData{regionCode}.pickle', 'wb') as file:\n",
    "    pickle.dump(data, file)"
   ]
  }
 ],
 "metadata": {
  "kernelspec": {
   "display_name": "Python 3",
   "language": "python",
   "name": "python3"
  },
  "language_info": {
   "codemirror_mode": {
    "name": "ipython",
    "version": 3
   },
   "file_extension": ".py",
   "mimetype": "text/x-python",
   "name": "python",
   "nbconvert_exporter": "python",
   "pygments_lexer": "ipython3",
   "version": "3.10.1"
  }
 },
 "nbformat": 4,
 "nbformat_minor": 2
}
