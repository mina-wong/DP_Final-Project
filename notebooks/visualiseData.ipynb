{
 "cells": [
  {
   "cell_type": "code",
   "execution_count": 3,
   "metadata": {},
   "outputs": [
    {
     "data": {
      "text/html": [
       "    <style>\n",
       "        .bk-notebook-logo {\n",
       "            display: block;\n",
       "            width: 20px;\n",
       "            height: 20px;\n",
       "            background-image: url(data:image/png;base64,iVBORw0KGgoAAAANSUhEUgAAABQAAAAUCAYAAACNiR0NAAAABHNCSVQICAgIfAhkiAAAAAlwSFlzAAALEgAACxIB0t1+/AAAABx0RVh0U29mdHdhcmUAQWRvYmUgRmlyZXdvcmtzIENTNui8sowAAAOkSURBVDiNjZRtaJVlGMd/1/08zzln5zjP1LWcU9N0NkN8m2CYjpgQYQXqSs0I84OLIC0hkEKoPtiH3gmKoiJDU7QpLgoLjLIQCpEsNJ1vqUOdO7ppbuec5+V+rj4ctwzd8IIbbi6u+8f1539dt3A78eXC7QizUF7gyV1fD1Yqg4JWz84yffhm0qkFqBogB9rM8tZdtwVsPUhWhGcFJngGeWrPzHm5oaMmkfEg1usvLFyc8jLRqDOMru7AyC8saQr7GG7f5fvDeH7Ej8CM66nIF+8yngt6HWaKh7k49Soy9nXurCi1o3qUbS3zWfrYeQDTB/Qj6kX6Ybhw4B+bOYoLKCC9H3Nu/leUTZ1JdRWkkn2ldcCamzrcf47KKXdAJllSlxAOkRgyHsGC/zRday5Qld9DyoM4/q/rUoy/CXh3jzOu3bHUVZeU+DEn8FInkPBFlu3+nW3Nw0mk6vCDiWg8CeJaxEwuHS3+z5RgY+YBR6V1Z1nxSOfoaPa4LASWxxdNp+VWTk7+4vzaou8v8PN+xo+KY2xsw6une2frhw05CTYOmQvsEhjhWjn0bmXPjpE1+kplmmkP3suftwTubK9Vq22qKmrBhpY4jvd5afdRA3wGjFAgcnTK2s4hY0/GPNIb0nErGMCRxWOOX64Z8RAC4oCXdklmEvcL8o0BfkNK4lUg9HTl+oPlQxdNo3Mg4Nv175e/1LDGzZen30MEjRUtmXSfiTVu1kK8W4txyV6BMKlbgk3lMwYCiusNy9fVfvvwMxv8Ynl6vxoByANLTWplvuj/nF9m2+PDtt1eiHPBr1oIfhCChQMBw6Aw0UulqTKZdfVvfG7VcfIqLG9bcldL/+pdWTLxLUy8Qq38heUIjh4XlzZxzQm19lLFlr8vdQ97rjZVOLf8nclzckbcD4wxXMidpX30sFd37Fv/GtwwhzhxGVAprjbg0gCAEeIgwCZyTV2Z1REEW8O4py0wsjeloKoMr6iCY6dP92H6Vw/oTyICIthibxjm/DfN9lVz8IqtqKYLUXfoKVMVQVVJOElGjrnnUt9T9wbgp8AyYKaGlqingHZU/uG2NTZSVqwHQTWkx9hxjkpWDaCg6Ckj5qebgBVbT3V3NNXMSiWSDdGV3hrtzla7J+duwPOToIg42ChPQOQjspnSlp1V+Gjdged7+8UN5CRAV7a5EdFNwCjEaBR27b3W890TE7g24NAP/mMDXRWrGoFPQI9ls/MWO2dWFAar/xcOIImbbpA3zgAAAABJRU5ErkJggg==);\n",
       "        }\n",
       "    </style>\n",
       "    <div>\n",
       "        <a href=\"https://bokeh.org\" target=\"_blank\" class=\"bk-notebook-logo\"></a>\n",
       "        <span id=\"f587cc66-9b97-4eb8-ad7b-7af1e1d18630\">Loading BokehJS ...</span>\n",
       "    </div>\n"
      ]
     },
     "metadata": {},
     "output_type": "display_data"
    },
    {
     "data": {
      "application/javascript": "'use strict';\n(function(root) {\n  function now() {\n    return new Date();\n  }\n\n  const force = true;\n\n  if (typeof root._bokeh_onload_callbacks === \"undefined\" || force === true) {\n    root._bokeh_onload_callbacks = [];\n    root._bokeh_is_loading = undefined;\n  }\n\nconst JS_MIME_TYPE = 'application/javascript';\n  const HTML_MIME_TYPE = 'text/html';\n  const EXEC_MIME_TYPE = 'application/vnd.bokehjs_exec.v0+json';\n  const CLASS_NAME = 'output_bokeh rendered_html';\n\n  /**\n   * Render data to the DOM node\n   */\n  function render(props, node) {\n    const script = document.createElement(\"script\");\n    node.appendChild(script);\n  }\n\n  /**\n   * Handle when an output is cleared or removed\n   */\n  function handleClearOutput(event, handle) {\n    function drop(id) {\n      const view = Bokeh.index.get_by_id(id)\n      if (view != null) {\n        view.model.document.clear()\n        Bokeh.index.delete(view)\n      }\n    }\n\n    const cell = handle.cell;\n\n    const id = cell.output_area._bokeh_element_id;\n    const server_id = cell.output_area._bokeh_server_id;\n\n    // Clean up Bokeh references\n    if (id != null) {\n      drop(id)\n    }\n\n    if (server_id !== undefined) {\n      // Clean up Bokeh references\n      const cmd_clean = \"from bokeh.io.state import curstate; print(curstate().uuid_to_server['\" + server_id + \"'].get_sessions()[0].document.roots[0]._id)\";\n      cell.notebook.kernel.execute(cmd_clean, {\n        iopub: {\n          output: function(msg) {\n            const id = msg.content.text.trim()\n            drop(id)\n          }\n        }\n      });\n      // Destroy server and session\n      const cmd_destroy = \"import bokeh.io.notebook as ion; ion.destroy_server('\" + server_id + \"')\";\n      cell.notebook.kernel.execute(cmd_destroy);\n    }\n  }\n\n  /**\n   * Handle when a new output is added\n   */\n  function handleAddOutput(event, handle) {\n    const output_area = handle.output_area;\n    const output = handle.output;\n\n    // limit handleAddOutput to display_data with EXEC_MIME_TYPE content only\n    if ((output.output_type != \"display_data\") || (!Object.prototype.hasOwnProperty.call(output.data, EXEC_MIME_TYPE))) {\n      return\n    }\n\n    const toinsert = output_area.element.find(\".\" + CLASS_NAME.split(' ')[0]);\n\n    if (output.metadata[EXEC_MIME_TYPE][\"id\"] !== undefined) {\n      toinsert[toinsert.length - 1].firstChild.textContent = output.data[JS_MIME_TYPE];\n      // store reference to embed id on output_area\n      output_area._bokeh_element_id = output.metadata[EXEC_MIME_TYPE][\"id\"];\n    }\n    if (output.metadata[EXEC_MIME_TYPE][\"server_id\"] !== undefined) {\n      const bk_div = document.createElement(\"div\");\n      bk_div.innerHTML = output.data[HTML_MIME_TYPE];\n      const script_attrs = bk_div.children[0].attributes;\n      for (let i = 0; i < script_attrs.length; i++) {\n        toinsert[toinsert.length - 1].firstChild.setAttribute(script_attrs[i].name, script_attrs[i].value);\n        toinsert[toinsert.length - 1].firstChild.textContent = bk_div.children[0].textContent\n      }\n      // store reference to server id on output_area\n      output_area._bokeh_server_id = output.metadata[EXEC_MIME_TYPE][\"server_id\"];\n    }\n  }\n\n  function register_renderer(events, OutputArea) {\n\n    function append_mime(data, metadata, element) {\n      // create a DOM node to render to\n      const toinsert = this.create_output_subarea(\n        metadata,\n        CLASS_NAME,\n        EXEC_MIME_TYPE\n      );\n      this.keyboard_manager.register_events(toinsert);\n      // Render to node\n      const props = {data: data, metadata: metadata[EXEC_MIME_TYPE]};\n      render(props, toinsert[toinsert.length - 1]);\n      element.append(toinsert);\n      return toinsert\n    }\n\n    /* Handle when an output is cleared or removed */\n    events.on('clear_output.CodeCell', handleClearOutput);\n    events.on('delete.Cell', handleClearOutput);\n\n    /* Handle when a new output is added */\n    events.on('output_added.OutputArea', handleAddOutput);\n\n    /**\n     * Register the mime type and append_mime function with output_area\n     */\n    OutputArea.prototype.register_mime_type(EXEC_MIME_TYPE, append_mime, {\n      /* Is output safe? */\n      safe: true,\n      /* Index of renderer in `output_area.display_order` */\n      index: 0\n    });\n  }\n\n  // register the mime type if in Jupyter Notebook environment and previously unregistered\n  if (root.Jupyter !== undefined) {\n    const events = require('base/js/events');\n    const OutputArea = require('notebook/js/outputarea').OutputArea;\n\n    if (OutputArea.prototype.mime_types().indexOf(EXEC_MIME_TYPE) == -1) {\n      register_renderer(events, OutputArea);\n    }\n  }\n  if (typeof (root._bokeh_timeout) === \"undefined\" || force === true) {\n    root._bokeh_timeout = Date.now() + 5000;\n    root._bokeh_failed_load = false;\n  }\n\n  const NB_LOAD_WARNING = {'data': {'text/html':\n     \"<div style='background-color: #fdd'>\\n\"+\n     \"<p>\\n\"+\n     \"BokehJS does not appear to have successfully loaded. If loading BokehJS from CDN, this \\n\"+\n     \"may be due to a slow or bad network connection. Possible fixes:\\n\"+\n     \"</p>\\n\"+\n     \"<ul>\\n\"+\n     \"<li>re-rerun `output_notebook()` to attempt to load from CDN again, or</li>\\n\"+\n     \"<li>use INLINE resources instead, as so:</li>\\n\"+\n     \"</ul>\\n\"+\n     \"<code>\\n\"+\n     \"from bokeh.resources import INLINE\\n\"+\n     \"output_notebook(resources=INLINE)\\n\"+\n     \"</code>\\n\"+\n     \"</div>\"}};\n\n  function display_loaded(error = null) {\n    const el = document.getElementById(\"f587cc66-9b97-4eb8-ad7b-7af1e1d18630\");\n    if (el != null) {\n      const html = (() => {\n        if (typeof root.Bokeh === \"undefined\") {\n          if (error == null) {\n            return \"BokehJS is loading ...\";\n          } else {\n            return \"BokehJS failed to load.\";\n          }\n        } else {\n          const prefix = `BokehJS ${root.Bokeh.version}`;\n          if (error == null) {\n            return `${prefix} successfully loaded.`;\n          } else {\n            return `${prefix} <b>encountered errors</b> while loading and may not function as expected.`;\n          }\n        }\n      })();\n      el.innerHTML = html;\n\n      if (error != null) {\n        const wrapper = document.createElement(\"div\");\n        wrapper.style.overflow = \"auto\";\n        wrapper.style.height = \"5em\";\n        wrapper.style.resize = \"vertical\";\n        const content = document.createElement(\"div\");\n        content.style.fontFamily = \"monospace\";\n        content.style.whiteSpace = \"pre-wrap\";\n        content.style.backgroundColor = \"rgb(255, 221, 221)\";\n        content.textContent = error.stack ?? error.toString();\n        wrapper.append(content);\n        el.append(wrapper);\n      }\n    } else if (Date.now() < root._bokeh_timeout) {\n      setTimeout(() => display_loaded(error), 100);\n    }\n  }\n\n  function run_callbacks() {\n    try {\n      root._bokeh_onload_callbacks.forEach(function(callback) {\n        if (callback != null)\n          callback();\n      });\n    } finally {\n      delete root._bokeh_onload_callbacks\n    }\n    console.debug(\"Bokeh: all callbacks have finished\");\n  }\n\n  function load_libs(css_urls, js_urls, callback) {\n    if (css_urls == null) css_urls = [];\n    if (js_urls == null) js_urls = [];\n\n    root._bokeh_onload_callbacks.push(callback);\n    if (root._bokeh_is_loading > 0) {\n      console.debug(\"Bokeh: BokehJS is being loaded, scheduling callback at\", now());\n      return null;\n    }\n    if (js_urls == null || js_urls.length === 0) {\n      run_callbacks();\n      return null;\n    }\n    console.debug(\"Bokeh: BokehJS not loaded, scheduling load and callback at\", now());\n    root._bokeh_is_loading = css_urls.length + js_urls.length;\n\n    function on_load() {\n      root._bokeh_is_loading--;\n      if (root._bokeh_is_loading === 0) {\n        console.debug(\"Bokeh: all BokehJS libraries/stylesheets loaded\");\n        run_callbacks()\n      }\n    }\n\n    function on_error(url) {\n      console.error(\"failed to load \" + url);\n    }\n\n    for (let i = 0; i < css_urls.length; i++) {\n      const url = css_urls[i];\n      const element = document.createElement(\"link\");\n      element.onload = on_load;\n      element.onerror = on_error.bind(null, url);\n      element.rel = \"stylesheet\";\n      element.type = \"text/css\";\n      element.href = url;\n      console.debug(\"Bokeh: injecting link tag for BokehJS stylesheet: \", url);\n      document.body.appendChild(element);\n    }\n\n    for (let i = 0; i < js_urls.length; i++) {\n      const url = js_urls[i];\n      const element = document.createElement('script');\n      element.onload = on_load;\n      element.onerror = on_error.bind(null, url);\n      element.async = false;\n      element.src = url;\n      console.debug(\"Bokeh: injecting script tag for BokehJS library: \", url);\n      document.head.appendChild(element);\n    }\n  };\n\n  function inject_raw_css(css) {\n    const element = document.createElement(\"style\");\n    element.appendChild(document.createTextNode(css));\n    document.body.appendChild(element);\n  }\n\n  const js_urls = [\"https://cdn.bokeh.org/bokeh/release/bokeh-3.4.1.min.js\", \"https://cdn.bokeh.org/bokeh/release/bokeh-gl-3.4.1.min.js\", \"https://cdn.bokeh.org/bokeh/release/bokeh-widgets-3.4.1.min.js\", \"https://cdn.bokeh.org/bokeh/release/bokeh-tables-3.4.1.min.js\", \"https://cdn.bokeh.org/bokeh/release/bokeh-mathjax-3.4.1.min.js\"];\n  const css_urls = [];\n\n  const inline_js = [    function(Bokeh) {\n      Bokeh.set_log_level(\"info\");\n    },\nfunction(Bokeh) {\n    }\n  ];\n\n  function run_inline_js() {\n    if (root.Bokeh !== undefined || force === true) {\n      try {\n            for (let i = 0; i < inline_js.length; i++) {\n      inline_js[i].call(root, root.Bokeh);\n    }\n\n      } catch (error) {display_loaded(error);throw error;\n      }if (force === true) {\n        display_loaded();\n      }} else if (Date.now() < root._bokeh_timeout) {\n      setTimeout(run_inline_js, 100);\n    } else if (!root._bokeh_failed_load) {\n      console.log(\"Bokeh: BokehJS failed to load within specified timeout.\");\n      root._bokeh_failed_load = true;\n    } else if (force !== true) {\n      const cell = $(document.getElementById(\"f587cc66-9b97-4eb8-ad7b-7af1e1d18630\")).parents('.cell').data().cell;\n      cell.output_area.append_execute_result(NB_LOAD_WARNING)\n    }\n  }\n\n  if (root._bokeh_is_loading === 0) {\n    console.debug(\"Bokeh: BokehJS loaded, going straight to plotting\");\n    run_inline_js();\n  } else {\n    load_libs(css_urls, js_urls, function() {\n      console.debug(\"Bokeh: BokehJS plotting callback run at\", now());\n      run_inline_js();\n    });\n  }\n}(window));",
      "application/vnd.bokehjs_load.v0+json": ""
     },
     "metadata": {},
     "output_type": "display_data"
    }
   ],
   "source": [
    "from pathlib import Path\n",
    "\n",
    "import pandas as pd\n",
    "import numpy as np\n",
    "from math import pi\n",
    "\n",
    "import matplotlib.pyplot as plt\n",
    "from ipywidgets import widgets, interactive\n",
    "\n",
    "from bokeh.io import output_notebook, show\n",
    "from bokeh.plotting import figure\n",
    "from bokeh.models import Legend, LegendItem\n",
    "\n",
    "output_notebook()"
   ]
  },
  {
   "cell_type": "code",
   "execution_count": 4,
   "metadata": {},
   "outputs": [],
   "source": [
    "# Set dates and regions\n",
    "startYear = 2017\n",
    "endYear = 2023\n",
    "\n",
    "end = int(str(endYear)[-2:])\n",
    "\n",
    "# Define path\n",
    "proj_path = Path.cwd().parent"
   ]
  },
  {
   "cell_type": "code",
   "execution_count": 5,
   "metadata": {},
   "outputs": [],
   "source": [
    "# Define inputs\n",
    "region_code = [\"EC\", \"BY\", \"TN\", \"UY\", \"VN\"]\n",
    "region_WB = {\"EC\": \"ECU\", \"BY\": \"BLR\", \"TN\": \"TUN\", \"UY\": \"URY\", \"VN\": \"VNM\"}\n",
    "region_name = {\"EC\": \"Ecuador\", \"BY\": \"Belarus\", \"TN\": \"Tunicia\", \"UY\": \"Uruguay\", \"VN\": \"Vietnam\"}\n",
    "region_colors = {\"EC\": \"Blue\", \"BY\": \"Green\", \"TN\": \"Purple\", \"UY\": \"Brown\", \"VN\": \"Red\"}"
   ]
  },
  {
   "cell_type": "code",
   "execution_count": 6,
   "metadata": {},
   "outputs": [],
   "source": [
    "# Import labour force statitics\n",
    "# Source: https://data.worldbank.org/indicator/SL.TLF.TOTL.IN\n",
    "\n",
    "df_labour_stats = pd.read_csv(f'{proj_path}/data/WB_labour_force_stats.csv')"
   ]
  },
  {
   "cell_type": "markdown",
   "metadata": {},
   "source": [
    "# IPI Calculations\n",
    "\n",
    "Calculate IPI component data. "
   ]
  },
  {
   "cell_type": "code",
   "execution_count": 7,
   "metadata": {},
   "outputs": [],
   "source": [
    "# Create empty dataframe to store output\n",
    "df_IPI = pd.DataFrame(columns=['Region', 'Year', 'Efficiency', 'Diversification', 'Quality', 'Internationalization', 'Time'])\n",
    "\n",
    "# Iterate through regional data to calculate indicators\n",
    "for region in region_code:\n",
    "\n",
    "    # Import patent information dataframe for the region\n",
    "    df_patents = pd.read_csv(f'{proj_path}/data/{region}/{startYear}-{end}PatentsWithCitations_{region}.csv')\n",
    "    df_patents['year'] = df_patents['publicationDate'].str[:4]\n",
    "    \n",
    "    for year in range(startYear, endYear+1):\n",
    "        \n",
    "        df_patents_year = df_patents[df_patents['year']==f'{year}']\n",
    "        total_patents = len(df_patents_year)\n",
    "\n",
    "        # Efficiency indicator\n",
    "        labor_force = df_labour_stats[df_labour_stats['Country Code']==region_WB[region]][f'{year}'].item()\n",
    "        efficiency_ind = (total_patents / labor_force) * 100000\n",
    "\n",
    "        # Diversification indicator\n",
    "        total_IPC = df_patents_year['IPC_count'].sum()\n",
    "        diversification_ind = total_IPC / total_patents\n",
    "\n",
    "        # Quality indicator\n",
    "        total_backward_citations = df_patents_year['backwardCitationsESpaceB'].sum()\n",
    "        quality_ind = total_backward_citations / total_patents\n",
    "\n",
    "        # Internationalization indicator\n",
    "        total_geographical_extensions = df_patents_year['geographicalExtensions'].sum()\n",
    "        internationalization_ind = total_geographical_extensions / total_patents\n",
    "\n",
    "        # Time indicator\n",
    "        time_in_months = df_patents_year['timeDifference'].sum()\n",
    "        time_ind = time_in_months / total_patents\n",
    "\n",
    "        df_IPI.loc[df_IPI.shape[0]] = [region_name[region], year, efficiency_ind, diversification_ind, quality_ind, internationalization_ind, time_ind]\n",
    "\n",
    "df_IPI['IPI'] = df_IPI['Efficiency'] + df_IPI['Diversification'] + df_IPI['Quality'] + df_IPI['Internationalization'] + df_IPI['Time']\n"
   ]
  },
  {
   "cell_type": "code",
   "execution_count": 8,
   "metadata": {},
   "outputs": [],
   "source": [
    "# Export indicator data as csv into data folder\n",
    "\n",
    "df_IPI.to_csv(f'{proj_path}/data/ipi.csv', index=False, encoding='utf-8-sig')"
   ]
  },
  {
   "cell_type": "markdown",
   "metadata": {},
   "source": [
    "# Visualisations and Plotting\n",
    "\n",
    "Build functions to visualise the data."
   ]
  },
  {
   "cell_type": "code",
   "execution_count": 9,
   "metadata": {},
   "outputs": [],
   "source": [
    "# Import data from csv\n",
    " \n",
    "df_IPI = pd.read_csv(f'{proj_path}/data/ipi.csv')"
   ]
  },
  {
   "cell_type": "code",
   "execution_count": 10,
   "metadata": {},
   "outputs": [],
   "source": [
    "def createLegend(renderers, labels):\n",
    "    \"\"\" \n",
    "    This function creates a legend object for a plot. \n",
    "    It takes two parameters: \n",
    "        1. `renderers`, which is a list of renderers, \n",
    "        2. `labels`, which is a list of labels corresponding to the renderers.\n",
    "    \"\"\"\n",
    "    items = []\n",
    "\n",
    "    for i, r in enumerate(renderers):\n",
    "        items.append(LegendItem(label=labels[i], renderers=[r], index=0))\n",
    "\n",
    "    return Legend(items=items)"
   ]
  },
  {
   "cell_type": "code",
   "execution_count": 11,
   "metadata": {},
   "outputs": [],
   "source": [
    "def multiple_line_graph(df_IPI, region_code, region_colors, region_name, title='IPIs'):\n",
    "    \"\"\"\n",
    "    This function creates a multiple line graph using the Bokeh library. \n",
    "    \n",
    "    It takes 5 parameters: \n",
    "        1. df_IPI, a dataframe holding the patent data, \n",
    "        2. region_code, a list of the regional codes, \n",
    "        3. region_colors, a dictionary containing the region_code and its respective colour, \n",
    "        4. region_name, a dictionary containing the region_code and its respective name.\n",
    "        5. (optional) title, string that becomes plot title. defaults to 'IPIs'\n",
    "    \"\"\"\n",
    "    \n",
    "    # Create new figure\n",
    "    p = figure(width=600, height=400, tools=\"hover\", tooltips=\"@Region: @IPI\")\n",
    "    p.xaxis.axis_label = 'Year'\n",
    "    p.yaxis.axis_label = 'IPI'\n",
    "    p.title = title\n",
    "    p.title_location = 'above'\n",
    "\n",
    "    # Plot line for each region\n",
    "    renderers = []\n",
    "    for region in region_code:\n",
    "        \n",
    "        df = df_IPI[df_IPI['Region']==region_name[region]]\n",
    "        \n",
    "        r = p.line(x='Year', y='IPI', source=df, line_width=1.5, line_color=region_colors[region], line_alpha=0.75)\n",
    "        renderers.append(r)\n",
    "\n",
    "    # Create legend\n",
    "    legend = createLegend(renderers, list(region_name.values()))\n",
    "    legend.click_policy = 'mute'\n",
    "    p.add_layout(legend, 'right')\n",
    "\n",
    "    show(p)\n"
   ]
  },
  {
   "cell_type": "code",
   "execution_count": 12,
   "metadata": {},
   "outputs": [],
   "source": [
    "def stackedBarGraph(df_IPI, region_name, colors_comp=['red', 'blue', 'green', 'orange', 'purple'], year=2023):\n",
    "    \n",
    "    \"\"\"\n",
    "    Returns a stacked bar graph for each region for a certain year. \n",
    "    \n",
    "    It takes 4 parameters: \n",
    "        1. df_IPI, a dataframe holding the patent data, \n",
    "        2. region_code, a list of the regional codes,\n",
    "        3. colors_comp, a list of colours for each IPI component\n",
    "        4. (optional) year, the year to graph (defaults to 2023)\n",
    "    \"\"\"\n",
    "    \n",
    "    # Define componenets\n",
    "    components = [\"Efficiency\", \"Diversification\", \"Quality\", \"Internationalization\", \"Time\"]\n",
    "    regions = list(region_name.values())\n",
    "\n",
    "    # Retrieve IPI data for the year 2023\n",
    "    data = df_IPI[df_IPI['Year']==int(year)][['Region']+components]\n",
    "    \n",
    "    p = figure(x_range=regions, height=350, title=f'IPI indicators for {year}',\n",
    "            toolbar_location=None, tools='hover', tooltips='$name: @$name')\n",
    "    \n",
    "    p.title.text = f\"IPI indicators for {year}\"\n",
    "    hover_alpha = 1.0\n",
    "    nonhover_alpha = 0.75\n",
    "    \n",
    "    # Create bar graph\n",
    "    renderers = p.vbar_stack(stackers=components, x='Region', width=0.9, color=colors_comp, source=data, alpha=nonhover_alpha, hover_alpha=hover_alpha)\n",
    "    \n",
    "    p.y_range.start = 0\n",
    "    p.x_range.range_padding = 0.1\n",
    "\n",
    "    p.xgrid.grid_line_color = None\n",
    "    p.axis.minor_tick_line_color = None\n",
    "    p.outline_line_color = None\n",
    "\n",
    "    # Create legend\n",
    "    legend = createLegend(renderers, components)\n",
    "    legend.click_policy = 'mute'\n",
    "    p.add_layout(legend, 'right')\n",
    "\n",
    "    show(p)"
   ]
  },
  {
   "cell_type": "code",
   "execution_count": 19,
   "metadata": {},
   "outputs": [],
   "source": [
    "def complexRadarChart(slider, year, area, df_IPI, region_code, region_colors, region_name):\n",
    "    \"\"\"\n",
    "    This function creates a radar chart visualization for the IPI data.\n",
    "    \"\"\"\n",
    "\n",
    "    labels = ['Efficiency', 'Diversification', 'Quality', 'Internationalization', 'Time']\n",
    "    labels_short = ['Eff.', 'Div.', 'Qlty.', 'Int.', 'Time', 'Eff.', ]\n",
    "\n",
    "    angles = np.linspace(0, 2*np.pi, len(labels), endpoint=False)\n",
    "    angles = np.concatenate((angles,[angles[0]]))\n",
    "\n",
    "    labels.append(labels[0])\n",
    "\n",
    "    plt.style.use('ggplot')\n",
    "\n",
    "    # Create figure\n",
    "    fig = plt.figure(figsize=(8, 6))\n",
    "\n",
    "    # Define axis\n",
    "    ax = fig.add_subplot(polar=True)\n",
    "    ax.set_thetagrids(angles * 180/np.pi, labels_short)\n",
    "    ax.set_title(f'IPIs in {year}')\n",
    "\n",
    "    # Adjust visible regions\n",
    "    if area != 'All':\n",
    "        temp = region_name.copy()\n",
    "        region_code = [key for key, value in temp.items() if value==area]\n",
    "    \n",
    "    # Iterate over the region codes\n",
    "    for region in region_code:\n",
    "        # Get dataframe for current region\n",
    "        df = df_IPI[df_IPI['Region']==region_name[region]]\n",
    "        data = df[df['Year']==year][labels].values.tolist()[0]\n",
    "\n",
    "        # Plot the data\n",
    "        ax.plot(angles, data, 'o--', color=region_colors[region], linewidth=1, markersize=1.5, alpha=0.75, label=region_name[region])\n",
    "        ax.fill(angles, data, alpha=0.25, color=region_colors[region])\n",
    "\n",
    "    ax.set_ylim(0,slider)\n",
    "    ax.legend()\n",
    "    plt.show()\n",
    "\n",
    "# Find max value in dataframe\n",
    "max_val = df_IPI[['Efficiency', 'Diversification', 'Quality', 'Internationalization', 'Time']].max().max()\n",
    "\n",
    "# Create widgets to adjust area, years, and the zoom slider\n",
    "areas = widgets.Dropdown(\n",
    "    options=['All']+list(region_name.values()),\n",
    "    value='All',\n",
    "    description='Area: ',\n",
    ")\n",
    "\n",
    "years = widgets.Dropdown(\n",
    "    options=[i for i in range(startYear, endYear+1)],\n",
    "    value=2023,\n",
    "    description='Year: ',\n",
    ")\n",
    "\n",
    "zoom_slider = widgets.IntSlider(\n",
    "    value=max_val,\n",
    "    min=0,\n",
    "    max=max_val+10,\n",
    "    step=1,\n",
    "    description=\"Zoom:\",\n",
    "    orientation=\"horizontal\"\n",
    ")\n"
   ]
  },
  {
   "cell_type": "markdown",
   "metadata": {},
   "source": [
    "# Output\n",
    "Create charts using above functions"
   ]
  },
  {
   "cell_type": "code",
   "execution_count": 14,
   "metadata": {},
   "outputs": [
    {
     "data": {
      "text/html": [
       "\n",
       "  <div id=\"a31c17ef-9aa0-4b37-8dc8-3658d0fce6ce\" data-root-id=\"p1001\" style=\"display: contents;\"></div>\n"
      ]
     },
     "metadata": {},
     "output_type": "display_data"
    },
    {
     "data": {
      "application/javascript": "(function(root) {\n  function embed_document(root) {\n  const docs_json = {\"de9b6e27-17ce-4f31-9ffd-17d3280f21fa\":{\"version\":\"3.4.1\",\"title\":\"Bokeh Application\",\"roots\":[{\"type\":\"object\",\"name\":\"Figure\",\"id\":\"p1001\",\"attributes\":{\"height\":400,\"x_range\":{\"type\":\"object\",\"name\":\"DataRange1d\",\"id\":\"p1002\"},\"y_range\":{\"type\":\"object\",\"name\":\"DataRange1d\",\"id\":\"p1003\"},\"x_scale\":{\"type\":\"object\",\"name\":\"LinearScale\",\"id\":\"p1010\"},\"y_scale\":{\"type\":\"object\",\"name\":\"LinearScale\",\"id\":\"p1011\"},\"title\":{\"type\":\"object\",\"name\":\"Title\",\"id\":\"p1023\",\"attributes\":{\"text\":\"IPIs\"}},\"renderers\":[{\"type\":\"object\",\"name\":\"GlyphRenderer\",\"id\":\"p1033\",\"attributes\":{\"data_source\":{\"type\":\"object\",\"name\":\"ColumnDataSource\",\"id\":\"p1024\",\"attributes\":{\"selected\":{\"type\":\"object\",\"name\":\"Selection\",\"id\":\"p1025\",\"attributes\":{\"indices\":[],\"line_indices\":[]}},\"selection_policy\":{\"type\":\"object\",\"name\":\"UnionRenderers\",\"id\":\"p1026\"},\"data\":{\"type\":\"map\",\"entries\":[[\"index\",{\"type\":\"ndarray\",\"array\":{\"type\":\"bytes\",\"data\":\"AAAAAAEAAAACAAAAAwAAAAQAAAAFAAAABgAAAA==\"},\"shape\":[7],\"dtype\":\"int32\",\"order\":\"little\"}],[\"Region\",{\"type\":\"ndarray\",\"array\":[\"Ecuador\",\"Ecuador\",\"Ecuador\",\"Ecuador\",\"Ecuador\",\"Ecuador\",\"Ecuador\"],\"shape\":[7],\"dtype\":\"object\",\"order\":\"little\"}],[\"Year\",{\"type\":\"ndarray\",\"array\":{\"type\":\"bytes\",\"data\":\"4QcAAOIHAADjBwAA5AcAAOUHAADmBwAA5wcAAA==\"},\"shape\":[7],\"dtype\":\"int32\",\"order\":\"little\"}],[\"Efficiency\",{\"type\":\"ndarray\",\"array\":{\"type\":\"bytes\",\"data\":\"UuWtJ+sg/D/pXSot/gAFQOCmCE/SVP4/kCLB/RXjAEBl11jc3//6P5+LCLyPlv8/Y4S4Oalz8T8=\"},\"shape\":[7],\"dtype\":\"float64\",\"order\":\"little\"}],[\"Diversification\",{\"type\":\"ndarray\",\"array\":{\"type\":\"bytes\",\"data\":\"q6qqqqqq6D/HcRzHcRzvP/naiHXpMe8/zsfgfAzO9z9+/Pjx48f3P2RSvEAmxes/Z3kSmYbt9j8=\"},\"shape\":[7],\"dtype\":\"float64\",\"order\":\"little\"}],[\"Quality\",{\"type\":\"ndarray\",\"array\":{\"type\":\"bytes\",\"data\":\"HMdxHMdx+D9CewntJbQEQPscUhOMtwJAuxK1K1G7BEBDhQoVKlTwP3+zdeg3W/c/X1z9oKMC7z8=\"},\"shape\":[7],\"dtype\":\"float64\",\"order\":\"little\"}],[\"Internationalization\",{\"type\":\"ndarray\",\"array\":{\"type\":\"bytes\",\"data\":\"5DiO4ziO9z8AAAAAAAD6P0hNMN7KPvc/tStRuxK1+z/u3Llz5871Py+QSfECmfQ/Mg3bzfIk8j8=\"},\"shape\":[7],\"dtype\":\"float64\",\"order\":\"little\"}],[\"Time\",{\"type\":\"ndarray\",\"array\":{\"type\":\"bytes\",\"data\":\"x3Ecx3GcDkA5juM4juMWQPP32oh16RFA9DE4H4PzFkB79erVq1cLQLcO/Wbr0P8/Mg3bzfIk8j8=\"},\"shape\":[7],\"dtype\":\"float64\",\"order\":\"little\"}],[\"IPI\",{\"type\":\"ndarray\",\"array\":{\"type\":\"bytes\",\"data\":\"x4NngeS1IkCEhHA/1xArQG2vQQYwSCZAvuT/QL9RK0AihF2gRfMhQM7BSEeSTx5AmPG/zxkLF0A=\"},\"shape\":[7],\"dtype\":\"float64\",\"order\":\"little\"}]]}}},\"view\":{\"type\":\"object\",\"name\":\"CDSView\",\"id\":\"p1034\",\"attributes\":{\"filter\":{\"type\":\"object\",\"name\":\"AllIndices\",\"id\":\"p1035\"}}},\"glyph\":{\"type\":\"object\",\"name\":\"Line\",\"id\":\"p1030\",\"attributes\":{\"x\":{\"type\":\"field\",\"field\":\"Year\"},\"y\":{\"type\":\"field\",\"field\":\"IPI\"},\"line_color\":\"Blue\",\"line_alpha\":0.75,\"line_width\":1.5}},\"nonselection_glyph\":{\"type\":\"object\",\"name\":\"Line\",\"id\":\"p1031\",\"attributes\":{\"x\":{\"type\":\"field\",\"field\":\"Year\"},\"y\":{\"type\":\"field\",\"field\":\"IPI\"},\"line_color\":\"Blue\",\"line_alpha\":0.1,\"line_width\":1.5}},\"muted_glyph\":{\"type\":\"object\",\"name\":\"Line\",\"id\":\"p1032\",\"attributes\":{\"x\":{\"type\":\"field\",\"field\":\"Year\"},\"y\":{\"type\":\"field\",\"field\":\"IPI\"},\"line_color\":\"Blue\",\"line_alpha\":0.2,\"line_width\":1.5}}}},{\"type\":\"object\",\"name\":\"GlyphRenderer\",\"id\":\"p1045\",\"attributes\":{\"data_source\":{\"type\":\"object\",\"name\":\"ColumnDataSource\",\"id\":\"p1036\",\"attributes\":{\"selected\":{\"type\":\"object\",\"name\":\"Selection\",\"id\":\"p1037\",\"attributes\":{\"indices\":[],\"line_indices\":[]}},\"selection_policy\":{\"type\":\"object\",\"name\":\"UnionRenderers\",\"id\":\"p1038\"},\"data\":{\"type\":\"map\",\"entries\":[[\"index\",{\"type\":\"ndarray\",\"array\":{\"type\":\"bytes\",\"data\":\"BwAAAAgAAAAJAAAACgAAAAsAAAAMAAAADQAAAA==\"},\"shape\":[7],\"dtype\":\"int32\",\"order\":\"little\"}],[\"Region\",{\"type\":\"ndarray\",\"array\":[\"Belarus\",\"Belarus\",\"Belarus\",\"Belarus\",\"Belarus\",\"Belarus\",\"Belarus\"],\"shape\":[7],\"dtype\":\"object\",\"order\":\"little\"}],[\"Year\",{\"type\":\"ndarray\",\"array\":{\"type\":\"bytes\",\"data\":\"4QcAAOIHAADjBwAA5AcAAOUHAADmBwAA5wcAAA==\"},\"shape\":[7],\"dtype\":\"int32\",\"order\":\"little\"}],[\"Efficiency\",{\"type\":\"ndarray\",\"array\":{\"type\":\"bytes\",\"data\":\"MPPjA3qQD0DDNsmm5NwMQJudhS1ZCAxAM4fJSEwnB0CM+UgXDsAAQAm331200/Q/45hk1Dmk5D8=\"},\"shape\":[7],\"dtype\":\"float64\",\"order\":\"little\"}],[\"Diversification\",{\"type\":\"ndarray\",\"array\":{\"type\":\"bytes\",\"data\":\"06l5kLt+AkBvetOb3vQCQDi1qU1tagNAd+7cuXPnAkD2Yz/2Yz8GQGZmZmZmZgZAAAAAAACAC0A=\"},\"shape\":[7],\"dtype\":\"float64\",\"order\":\"little\"}],[\"Quality\",{\"type\":\"ndarray\",\"array\":{\"type\":\"bytes\",\"data\":\"HFFg0ql5GkC96U1velMcQAlFKEIRihpApUmTJk2aIUB8xVd8xVckQLITO7ETOydAAAAAAAD8UUA=\"},\"shape\":[7],\"dtype\":\"float64\",\"order\":\"little\"}],[\"Internationalization\",{\"type\":\"ndarray\",\"array\":{\"type\":\"bytes\",\"data\":\"Jp2aB7nr9z/qTW9605v6P6EIRShCEfo/9erVq1evAkDSGq3RGq0BQNVKrdRKrQRAAAAAAACA+z8=\"},\"shape\":[7],\"dtype\":\"float64\",\"order\":\"little\"}],[\"Time\",{\"type\":\"ndarray\",\"array\":{\"type\":\"bytes\",\"data\":\"Gb4RBSadLEB605ve9OYsQOxe97rXvSdAKlSoUKFCLkDWaI3WaI0sQJ7YiZ3YiS1AAAAAAACAEkA=\"},\"shape\":[7],\"dtype\":\"float64\",\"order\":\"little\"}],[\"IPI\",{\"type\":\"ndarray\",\"array\":{\"type\":\"bytes\",\"data\":\"xlAmup+tPEAx7xurTiw9QJz77x/dEDpA/FptMTqGP0A0RlnFKIg/QOBzUcoTiUBAMsmoc0iXVEA=\"},\"shape\":[7],\"dtype\":\"float64\",\"order\":\"little\"}]]}}},\"view\":{\"type\":\"object\",\"name\":\"CDSView\",\"id\":\"p1046\",\"attributes\":{\"filter\":{\"type\":\"object\",\"name\":\"AllIndices\",\"id\":\"p1047\"}}},\"glyph\":{\"type\":\"object\",\"name\":\"Line\",\"id\":\"p1042\",\"attributes\":{\"x\":{\"type\":\"field\",\"field\":\"Year\"},\"y\":{\"type\":\"field\",\"field\":\"IPI\"},\"line_color\":\"Green\",\"line_alpha\":0.75,\"line_width\":1.5}},\"nonselection_glyph\":{\"type\":\"object\",\"name\":\"Line\",\"id\":\"p1043\",\"attributes\":{\"x\":{\"type\":\"field\",\"field\":\"Year\"},\"y\":{\"type\":\"field\",\"field\":\"IPI\"},\"line_color\":\"Green\",\"line_alpha\":0.1,\"line_width\":1.5}},\"muted_glyph\":{\"type\":\"object\",\"name\":\"Line\",\"id\":\"p1044\",\"attributes\":{\"x\":{\"type\":\"field\",\"field\":\"Year\"},\"y\":{\"type\":\"field\",\"field\":\"IPI\"},\"line_color\":\"Green\",\"line_alpha\":0.2,\"line_width\":1.5}}}},{\"type\":\"object\",\"name\":\"GlyphRenderer\",\"id\":\"p1057\",\"attributes\":{\"data_source\":{\"type\":\"object\",\"name\":\"ColumnDataSource\",\"id\":\"p1048\",\"attributes\":{\"selected\":{\"type\":\"object\",\"name\":\"Selection\",\"id\":\"p1049\",\"attributes\":{\"indices\":[],\"line_indices\":[]}},\"selection_policy\":{\"type\":\"object\",\"name\":\"UnionRenderers\",\"id\":\"p1050\"},\"data\":{\"type\":\"map\",\"entries\":[[\"index\",{\"type\":\"ndarray\",\"array\":{\"type\":\"bytes\",\"data\":\"DgAAAA8AAAAQAAAAEQAAABIAAAATAAAAFAAAAA==\"},\"shape\":[7],\"dtype\":\"int32\",\"order\":\"little\"}],[\"Region\",{\"type\":\"ndarray\",\"array\":[\"Tunicia\",\"Tunicia\",\"Tunicia\",\"Tunicia\",\"Tunicia\",\"Tunicia\",\"Tunicia\"],\"shape\":[7],\"dtype\":\"object\",\"order\":\"little\"}],[\"Year\",{\"type\":\"ndarray\",\"array\":{\"type\":\"bytes\",\"data\":\"4QcAAOIHAADjBwAA5AcAAOUHAADmBwAA5wcAAA==\"},\"shape\":[7],\"dtype\":\"int32\",\"order\":\"little\"}],[\"Efficiency\",{\"type\":\"ndarray\",\"array\":{\"type\":\"bytes\",\"data\":\"Qx2T6JAtEEBsbnd3ue4QQGn1d/KluxFAOALBmEFwEEAVGiUayXYLQLNzbpKuMQ9AfHfnF5TQCkA=\"},\"shape\":[7],\"dtype\":\"float64\",\"order\":\"little\"}],[\"Diversification\",{\"type\":\"ndarray\",\"array\":{\"type\":\"bytes\",\"data\":\"RBs+f8xR+j9ualOb2tT+P4jJFcTkCgBAkiRJkiRJAUBwl3oyfrsAQD4/Pz8/P/8/A0M1HXOJAEA=\"},\"shape\":[7],\"dtype\":\"float64\",\"order\":\"little\"}],[\"Quality\",{\"type\":\"ndarray\",\"array\":{\"type\":\"bytes\",\"data\":\"dmIndmInEkCc2tSmNrUNQAticgUxuRRAPc/zPM9zEEBPxm+XejIGQJeWlpaWlgZAYuvbgKGa/j8=\"},\"shape\":[7],\"dtype\":\"float64\",\"order\":\"little\"}],[\"Internationalization\",{\"type\":\"ndarray\",\"array\":{\"type\":\"bytes\",\"data\":\"xU7sxE7s9D/gAhe4wAX+P64gJlcQk/c/z/M8z/M8+T+bA4lW2Bz4P35+fn5+fvY/rm8Dhmo69j8=\"},\"shape\":[7],\"dtype\":\"float64\",\"order\":\"little\"}],[\"Time\",{\"type\":\"ndarray\",\"array\":{\"type\":\"bytes\",\"data\":\"vOTBgDOuDUDyjGc84xkhQJMriMkVxBRA6Hme53meEkBItMLmQKITQA8PDw8PDwtAGzBU0zGXAEA=\"},\"shape\":[7],\"dtype\":\"float64\",\"order\":\"little\"}],[\"IPI\",{\"type\":\"ndarray\",\"array\":{\"type\":\"bytes\",\"data\":\"TQYT+Ml9LkA85CKG8Ew0QP67Uc7ISDJApsaRfpadMECMWDb3620tQA6+vMWM7SpACSb4wu+WJUA=\"},\"shape\":[7],\"dtype\":\"float64\",\"order\":\"little\"}]]}}},\"view\":{\"type\":\"object\",\"name\":\"CDSView\",\"id\":\"p1058\",\"attributes\":{\"filter\":{\"type\":\"object\",\"name\":\"AllIndices\",\"id\":\"p1059\"}}},\"glyph\":{\"type\":\"object\",\"name\":\"Line\",\"id\":\"p1054\",\"attributes\":{\"x\":{\"type\":\"field\",\"field\":\"Year\"},\"y\":{\"type\":\"field\",\"field\":\"IPI\"},\"line_color\":\"Purple\",\"line_alpha\":0.75,\"line_width\":1.5}},\"nonselection_glyph\":{\"type\":\"object\",\"name\":\"Line\",\"id\":\"p1055\",\"attributes\":{\"x\":{\"type\":\"field\",\"field\":\"Year\"},\"y\":{\"type\":\"field\",\"field\":\"IPI\"},\"line_color\":\"Purple\",\"line_alpha\":0.1,\"line_width\":1.5}},\"muted_glyph\":{\"type\":\"object\",\"name\":\"Line\",\"id\":\"p1056\",\"attributes\":{\"x\":{\"type\":\"field\",\"field\":\"Year\"},\"y\":{\"type\":\"field\",\"field\":\"IPI\"},\"line_color\":\"Purple\",\"line_alpha\":0.2,\"line_width\":1.5}}}},{\"type\":\"object\",\"name\":\"GlyphRenderer\",\"id\":\"p1069\",\"attributes\":{\"data_source\":{\"type\":\"object\",\"name\":\"ColumnDataSource\",\"id\":\"p1060\",\"attributes\":{\"selected\":{\"type\":\"object\",\"name\":\"Selection\",\"id\":\"p1061\",\"attributes\":{\"indices\":[],\"line_indices\":[]}},\"selection_policy\":{\"type\":\"object\",\"name\":\"UnionRenderers\",\"id\":\"p1062\"},\"data\":{\"type\":\"map\",\"entries\":[[\"index\",{\"type\":\"ndarray\",\"array\":{\"type\":\"bytes\",\"data\":\"FQAAABYAAAAXAAAAGAAAABkAAAAaAAAAGwAAAA==\"},\"shape\":[7],\"dtype\":\"int32\",\"order\":\"little\"}],[\"Region\",{\"type\":\"ndarray\",\"array\":[\"Uruguay\",\"Uruguay\",\"Uruguay\",\"Uruguay\",\"Uruguay\",\"Uruguay\",\"Uruguay\"],\"shape\":[7],\"dtype\":\"object\",\"order\":\"little\"}],[\"Year\",{\"type\":\"ndarray\",\"array\":{\"type\":\"bytes\",\"data\":\"4QcAAOIHAADjBwAA5AcAAOUHAADmBwAA5wcAAA==\"},\"shape\":[7],\"dtype\":\"int32\",\"order\":\"little\"}],[\"Efficiency\",{\"type\":\"ndarray\",\"array\":{\"type\":\"bytes\",\"data\":\"X+k1cA/8H0CqJktKLHEiQMS5QkuMvh5A8SSG0kB1GECL7BbkAogcQO+Se5Wa2B5AUBlR52LUE0A=\"},\"shape\":[7],\"dtype\":\"float64\",\"order\":\"little\"}],[\"Diversification\",{\"type\":\"ndarray\",\"array\":{\"type\":\"bytes\",\"data\":\"IYq/yBkWBEAAAAAAAEAEQO0WfjUm0gNAFEgl52URB0B0zjnnnHMCQMWo4W9TjAJAFl100UUXA0A=\"},\"shape\":[7],\"dtype\":\"float64\",\"order\":\"little\"}],[\"Quality\",{\"type\":\"ndarray\",\"array\":{\"type\":\"bytes\",\"data\":\"coYFl8r2LkCamZmZmTkuQDUm0gOVsypAKJBKzssiLkB877333vsqQIe/TTFq+B9ARhdddNHFHkA=\"},\"shape\":[7],\"dtype\":\"float64\",\"order\":\"little\"}],[\"Internationalization\",{\"type\":\"ndarray\",\"array\":{\"type\":\"bytes\",\"data\":\"1wHdmKePFkCamZmZmRkTQEHl7BZ+NRBAnZdFfAKpFEBKKaWUUkoTQNe58oBknQtAo4suuuiiEEA=\"},\"shape\":[7],\"dtype\":\"float64\",\"order\":\"little\"}],[\"Time\",{\"type\":\"ndarray\",\"array\":{\"type\":\"bytes\",\"data\":\"+mg1CVF8QEBmZmZmZs47QMOvxkR6IDhAuoP9VhtDO0DnnHPOOWcxQNPwtylGDSdAAAAAAAAAJ0A=\"},\"shape\":[7],\"dtype\":\"float64\",\"order\":\"little\"}],[\"IPI\",{\"type\":\"ndarray\",\"array\":{\"type\":\"bytes\",\"data\":\"UJBSFm4mUEB3ll/fF7lNQL629RLG2ElA+jFdZx8/TED0abQiGZRGQK5sVKINgEBAsbql/y+yPkA=\"},\"shape\":[7],\"dtype\":\"float64\",\"order\":\"little\"}]]}}},\"view\":{\"type\":\"object\",\"name\":\"CDSView\",\"id\":\"p1070\",\"attributes\":{\"filter\":{\"type\":\"object\",\"name\":\"AllIndices\",\"id\":\"p1071\"}}},\"glyph\":{\"type\":\"object\",\"name\":\"Line\",\"id\":\"p1066\",\"attributes\":{\"x\":{\"type\":\"field\",\"field\":\"Year\"},\"y\":{\"type\":\"field\",\"field\":\"IPI\"},\"line_color\":\"Brown\",\"line_alpha\":0.75,\"line_width\":1.5}},\"nonselection_glyph\":{\"type\":\"object\",\"name\":\"Line\",\"id\":\"p1067\",\"attributes\":{\"x\":{\"type\":\"field\",\"field\":\"Year\"},\"y\":{\"type\":\"field\",\"field\":\"IPI\"},\"line_color\":\"Brown\",\"line_alpha\":0.1,\"line_width\":1.5}},\"muted_glyph\":{\"type\":\"object\",\"name\":\"Line\",\"id\":\"p1068\",\"attributes\":{\"x\":{\"type\":\"field\",\"field\":\"Year\"},\"y\":{\"type\":\"field\",\"field\":\"IPI\"},\"line_color\":\"Brown\",\"line_alpha\":0.2,\"line_width\":1.5}}}},{\"type\":\"object\",\"name\":\"GlyphRenderer\",\"id\":\"p1081\",\"attributes\":{\"data_source\":{\"type\":\"object\",\"name\":\"ColumnDataSource\",\"id\":\"p1072\",\"attributes\":{\"selected\":{\"type\":\"object\",\"name\":\"Selection\",\"id\":\"p1073\",\"attributes\":{\"indices\":[],\"line_indices\":[]}},\"selection_policy\":{\"type\":\"object\",\"name\":\"UnionRenderers\",\"id\":\"p1074\"},\"data\":{\"type\":\"map\",\"entries\":[[\"index\",{\"type\":\"ndarray\",\"array\":{\"type\":\"bytes\",\"data\":\"HAAAAB0AAAAeAAAAHwAAACAAAAAhAAAAIgAAAA==\"},\"shape\":[7],\"dtype\":\"int32\",\"order\":\"little\"}],[\"Region\",{\"type\":\"ndarray\",\"array\":[\"Vietnam\",\"Vietnam\",\"Vietnam\",\"Vietnam\",\"Vietnam\",\"Vietnam\",\"Vietnam\"],\"shape\":[7],\"dtype\":\"object\",\"order\":\"little\"}],[\"Year\",{\"type\":\"ndarray\",\"array\":{\"type\":\"bytes\",\"data\":\"4QcAAOIHAADjBwAA5AcAAOUHAADmBwAA5wcAAA==\"},\"shape\":[7],\"dtype\":\"int32\",\"order\":\"little\"}],[\"Efficiency\",{\"type\":\"ndarray\",\"array\":{\"type\":\"bytes\",\"data\":\"3dOOnNHbvD86v5Ly1OnAPy/G4HP/98g/90a1vNx0zT/hBZTT1srRP73SEAOOB88/rw7aRt5Z0j8=\"},\"shape\":[7],\"dtype\":\"float64\",\"order\":\"little\"}],[\"Diversification\",{\"type\":\"ndarray\",\"array\":{\"type\":\"bytes\",\"data\":\"vvfee++9C0DBgQMHDhwIQBVzqzNSMQdAmqZpmqZpCkCUP+qUP+oMQFuwBVuwBQtABnxyuAz4BEA=\"},\"shape\":[7],\"dtype\":\"float64\",\"order\":\"little\"}],[\"Quality\",{\"type\":\"ndarray\",\"array\":{\"type\":\"bytes\",\"data\":\"ttZaa621MUB37ty5c+coQD9ZApv2kydAbtu2bdu2JkB5zyR6zyQkQNW58oBknR9A/CKqdfZFJEA=\"},\"shape\":[7],\"dtype\":\"float64\",\"order\":\"little\"}],[\"Internationalization\",{\"type\":\"ndarray\",\"array\":{\"type\":\"bytes\",\"data\":\"SimllFJKFUCsV69evXoRQEL0+C4cRA9AchzHcRzHBUBeX19fX18HQE/6pE/6pP8/rbMvolpn/z8=\"},\"shape\":[7],\"dtype\":\"float64\",\"order\":\"little\"}],[\"Time\",{\"type\":\"ndarray\",\"array\":{\"type\":\"bytes\",\"data\":\"EUIIIYQQP0CaNGnSpEk6QPkuHESP7zRAapqmaZqmLUDs6+vr6+svQAgk61x5QCBAnxwuAz45HEA=\"},\"shape\":[7],\"dtype\":\"float64\",\"order\":\"little\"}],[\"IPI\",{\"type\":\"ndarray\",\"array\":{\"type\":\"bytes\",\"data\":\"cmhS+a/WTEC8i+S4sSBHQAjVbC4U3UNA7h5Xg943QEDU8G92XmxAQNBnE5uqoDVAnEvtdSkQNkA=\"},\"shape\":[7],\"dtype\":\"float64\",\"order\":\"little\"}]]}}},\"view\":{\"type\":\"object\",\"name\":\"CDSView\",\"id\":\"p1082\",\"attributes\":{\"filter\":{\"type\":\"object\",\"name\":\"AllIndices\",\"id\":\"p1083\"}}},\"glyph\":{\"type\":\"object\",\"name\":\"Line\",\"id\":\"p1078\",\"attributes\":{\"x\":{\"type\":\"field\",\"field\":\"Year\"},\"y\":{\"type\":\"field\",\"field\":\"IPI\"},\"line_color\":\"Red\",\"line_alpha\":0.75,\"line_width\":1.5}},\"nonselection_glyph\":{\"type\":\"object\",\"name\":\"Line\",\"id\":\"p1079\",\"attributes\":{\"x\":{\"type\":\"field\",\"field\":\"Year\"},\"y\":{\"type\":\"field\",\"field\":\"IPI\"},\"line_color\":\"Red\",\"line_alpha\":0.1,\"line_width\":1.5}},\"muted_glyph\":{\"type\":\"object\",\"name\":\"Line\",\"id\":\"p1080\",\"attributes\":{\"x\":{\"type\":\"field\",\"field\":\"Year\"},\"y\":{\"type\":\"field\",\"field\":\"IPI\"},\"line_color\":\"Red\",\"line_alpha\":0.2,\"line_width\":1.5}}}}],\"toolbar\":{\"type\":\"object\",\"name\":\"Toolbar\",\"id\":\"p1009\",\"attributes\":{\"tools\":[{\"type\":\"object\",\"name\":\"HoverTool\",\"id\":\"p1022\",\"attributes\":{\"renderers\":\"auto\",\"tooltips\":\"@Region: @IPI\"}}]}},\"left\":[{\"type\":\"object\",\"name\":\"LinearAxis\",\"id\":\"p1017\",\"attributes\":{\"ticker\":{\"type\":\"object\",\"name\":\"BasicTicker\",\"id\":\"p1018\",\"attributes\":{\"mantissas\":[1,2,5]}},\"formatter\":{\"type\":\"object\",\"name\":\"BasicTickFormatter\",\"id\":\"p1019\"},\"axis_label\":\"IPI\",\"major_label_policy\":{\"type\":\"object\",\"name\":\"AllLabels\",\"id\":\"p1020\"}}}],\"right\":[{\"type\":\"object\",\"name\":\"Legend\",\"id\":\"p1089\",\"attributes\":{\"click_policy\":\"mute\",\"items\":[{\"type\":\"object\",\"name\":\"LegendItem\",\"id\":\"p1084\",\"attributes\":{\"label\":{\"type\":\"value\",\"value\":\"Ecuador\"},\"renderers\":[{\"id\":\"p1033\"}],\"index\":0}},{\"type\":\"object\",\"name\":\"LegendItem\",\"id\":\"p1085\",\"attributes\":{\"label\":{\"type\":\"value\",\"value\":\"Belarus\"},\"renderers\":[{\"id\":\"p1045\"}],\"index\":0}},{\"type\":\"object\",\"name\":\"LegendItem\",\"id\":\"p1086\",\"attributes\":{\"label\":{\"type\":\"value\",\"value\":\"Tunicia\"},\"renderers\":[{\"id\":\"p1057\"}],\"index\":0}},{\"type\":\"object\",\"name\":\"LegendItem\",\"id\":\"p1087\",\"attributes\":{\"label\":{\"type\":\"value\",\"value\":\"Uruguay\"},\"renderers\":[{\"id\":\"p1069\"}],\"index\":0}},{\"type\":\"object\",\"name\":\"LegendItem\",\"id\":\"p1088\",\"attributes\":{\"label\":{\"type\":\"value\",\"value\":\"Vietnam\"},\"renderers\":[{\"id\":\"p1081\"}],\"index\":0}}]}}],\"below\":[{\"type\":\"object\",\"name\":\"LinearAxis\",\"id\":\"p1012\",\"attributes\":{\"ticker\":{\"type\":\"object\",\"name\":\"BasicTicker\",\"id\":\"p1013\",\"attributes\":{\"mantissas\":[1,2,5]}},\"formatter\":{\"type\":\"object\",\"name\":\"BasicTickFormatter\",\"id\":\"p1014\"},\"axis_label\":\"Year\",\"major_label_policy\":{\"type\":\"object\",\"name\":\"AllLabels\",\"id\":\"p1015\"}}}],\"center\":[{\"type\":\"object\",\"name\":\"Grid\",\"id\":\"p1016\",\"attributes\":{\"axis\":{\"id\":\"p1012\"}}},{\"type\":\"object\",\"name\":\"Grid\",\"id\":\"p1021\",\"attributes\":{\"dimension\":1,\"axis\":{\"id\":\"p1017\"}}}]}}]}};\n  const render_items = [{\"docid\":\"de9b6e27-17ce-4f31-9ffd-17d3280f21fa\",\"roots\":{\"p1001\":\"a31c17ef-9aa0-4b37-8dc8-3658d0fce6ce\"},\"root_ids\":[\"p1001\"]}];\n  void root.Bokeh.embed.embed_items_notebook(docs_json, render_items);\n  }\n  if (root.Bokeh !== undefined) {\n    embed_document(root);\n  } else {\n    let attempts = 0;\n    const timer = setInterval(function(root) {\n      if (root.Bokeh !== undefined) {\n        clearInterval(timer);\n        embed_document(root);\n      } else {\n        attempts++;\n        if (attempts > 100) {\n          clearInterval(timer);\n          console.log(\"Bokeh: ERROR: Unable to run BokehJS code because BokehJS library is missing\");\n        }\n      }\n    }, 10, root)\n  }\n})(window);",
      "application/vnd.bokehjs_exec.v0+json": ""
     },
     "metadata": {
      "application/vnd.bokehjs_exec.v0+json": {
       "id": "p1001"
      }
     },
     "output_type": "display_data"
    }
   ],
   "source": [
    "multiple_line_graph(df_IPI, region_code, region_colors, region_name)"
   ]
  },
  {
   "cell_type": "code",
   "execution_count": 27,
   "metadata": {},
   "outputs": [
    {
     "data": {
      "text/html": [
       "\n",
       "  <div id=\"d79b7aa3-6ec8-4dfc-af63-5ec6c62a5435\" data-root-id=\"p2345\" style=\"display: contents;\"></div>\n"
      ]
     },
     "metadata": {},
     "output_type": "display_data"
    },
    {
     "data": {
      "application/javascript": "(function(root) {\n  function embed_document(root) {\n  const docs_json = {\"d54d5b93-4296-4a72-bd73-4b1ced62d957\":{\"version\":\"3.4.1\",\"title\":\"Bokeh Application\",\"roots\":[{\"type\":\"object\",\"name\":\"Figure\",\"id\":\"p2345\",\"attributes\":{\"height\":350,\"x_range\":{\"type\":\"object\",\"name\":\"FactorRange\",\"id\":\"p2355\",\"attributes\":{\"factors\":[\"Ecuador\",\"Belarus\",\"Tunicia\",\"Uruguay\",\"Vietnam\"],\"range_padding\":0.1}},\"y_range\":{\"type\":\"object\",\"name\":\"DataRange1d\",\"id\":\"p2347\",\"attributes\":{\"start\":0}},\"x_scale\":{\"type\":\"object\",\"name\":\"CategoricalScale\",\"id\":\"p2356\"},\"y_scale\":{\"type\":\"object\",\"name\":\"LinearScale\",\"id\":\"p2357\"},\"title\":{\"type\":\"object\",\"name\":\"Title\",\"id\":\"p2348\",\"attributes\":{\"text\":\"IPI indicators for 2019\"}},\"outline_line_color\":null,\"renderers\":[{\"type\":\"object\",\"name\":\"GlyphRenderer\",\"id\":\"p2389\",\"attributes\":{\"name\":\"Efficiency\",\"data_source\":{\"type\":\"object\",\"name\":\"ColumnDataSource\",\"id\":\"p2379\",\"attributes\":{\"selected\":{\"type\":\"object\",\"name\":\"Selection\",\"id\":\"p2380\",\"attributes\":{\"indices\":[],\"line_indices\":[]}},\"selection_policy\":{\"type\":\"object\",\"name\":\"UnionRenderers\",\"id\":\"p2381\"},\"data\":{\"type\":\"map\",\"entries\":[[\"index\",{\"type\":\"ndarray\",\"array\":{\"type\":\"bytes\",\"data\":\"AgAAAAkAAAAQAAAAFwAAAB4AAAA=\"},\"shape\":[5],\"dtype\":\"int32\",\"order\":\"little\"}],[\"Region\",{\"type\":\"ndarray\",\"array\":[\"Ecuador\",\"Belarus\",\"Tunicia\",\"Uruguay\",\"Vietnam\"],\"shape\":[5],\"dtype\":\"object\",\"order\":\"little\"}],[\"Efficiency\",{\"type\":\"ndarray\",\"array\":{\"type\":\"bytes\",\"data\":\"4KYIT9JU/j+bnYUtWQgMQGn1d/KluxFAxLlCS4y+HkAvxuBz//fIPw==\"},\"shape\":[5],\"dtype\":\"float64\",\"order\":\"little\"}],[\"Diversification\",{\"type\":\"ndarray\",\"array\":{\"type\":\"bytes\",\"data\":\"+dqIdekx7z84talNbWoDQIjJFcTkCgBA7RZ+NSbSA0AVc6szUjEHQA==\"},\"shape\":[5],\"dtype\":\"float64\",\"order\":\"little\"}],[\"Quality\",{\"type\":\"ndarray\",\"array\":{\"type\":\"bytes\",\"data\":\"+xxSE4y3AkAJRShCEYoaQAticgUxuRRANSbSA5WzKkA/WQKb9pMnQA==\"},\"shape\":[5],\"dtype\":\"float64\",\"order\":\"little\"}],[\"Internationalization\",{\"type\":\"ndarray\",\"array\":{\"type\":\"bytes\",\"data\":\"SE0w3so+9z+hCEUoQhH6P64gJlcQk/c/QeXsFn41EEBC9PguHEQPQA==\"},\"shape\":[5],\"dtype\":\"float64\",\"order\":\"little\"}],[\"Time\",{\"type\":\"ndarray\",\"array\":{\"type\":\"bytes\",\"data\":\"8/faiHXpEUDsXve6170nQJMriMkVxBRAw6/GRHogOED5LhxEj+80QA==\"},\"shape\":[5],\"dtype\":\"float64\",\"order\":\"little\"}]]}}},\"view\":{\"type\":\"object\",\"name\":\"CDSView\",\"id\":\"p2390\",\"attributes\":{\"filter\":{\"type\":\"object\",\"name\":\"AllIndices\",\"id\":\"p2391\"}}},\"glyph\":{\"type\":\"object\",\"name\":\"VBar\",\"id\":\"p2385\",\"attributes\":{\"x\":{\"type\":\"field\",\"field\":\"Region\"},\"width\":{\"type\":\"value\",\"value\":0.9},\"bottom\":{\"type\":\"expr\",\"expr\":{\"type\":\"object\",\"name\":\"Stack\",\"id\":\"p2369\",\"attributes\":{\"fields\":[]}}},\"top\":{\"type\":\"expr\",\"expr\":{\"type\":\"object\",\"name\":\"Stack\",\"id\":\"p2370\",\"attributes\":{\"fields\":[\"Efficiency\"]}}},\"line_color\":{\"type\":\"value\",\"value\":\"red\"},\"line_alpha\":{\"type\":\"value\",\"value\":0.75},\"fill_color\":{\"type\":\"value\",\"value\":\"red\"},\"fill_alpha\":{\"type\":\"value\",\"value\":0.75},\"hatch_color\":{\"type\":\"value\",\"value\":\"red\"},\"hatch_alpha\":{\"type\":\"value\",\"value\":0.75}}},\"nonselection_glyph\":{\"type\":\"object\",\"name\":\"VBar\",\"id\":\"p2386\",\"attributes\":{\"x\":{\"type\":\"field\",\"field\":\"Region\"},\"width\":{\"type\":\"value\",\"value\":0.9},\"bottom\":{\"type\":\"expr\",\"expr\":{\"id\":\"p2369\"}},\"top\":{\"type\":\"expr\",\"expr\":{\"id\":\"p2370\"}},\"line_color\":{\"type\":\"value\",\"value\":\"red\"},\"line_alpha\":{\"type\":\"value\",\"value\":0.1},\"fill_color\":{\"type\":\"value\",\"value\":\"red\"},\"fill_alpha\":{\"type\":\"value\",\"value\":0.1},\"hatch_color\":{\"type\":\"value\",\"value\":\"red\"},\"hatch_alpha\":{\"type\":\"value\",\"value\":0.1}}},\"hover_glyph\":{\"type\":\"object\",\"name\":\"VBar\",\"id\":\"p2387\",\"attributes\":{\"x\":{\"type\":\"field\",\"field\":\"Region\"},\"width\":{\"type\":\"value\",\"value\":0.9},\"bottom\":{\"type\":\"expr\",\"expr\":{\"id\":\"p2369\"}},\"top\":{\"type\":\"expr\",\"expr\":{\"id\":\"p2370\"}},\"line_color\":{\"type\":\"value\",\"value\":\"red\"},\"fill_color\":{\"type\":\"value\",\"value\":\"red\"},\"hatch_color\":{\"type\":\"value\",\"value\":\"red\"}}},\"muted_glyph\":{\"type\":\"object\",\"name\":\"VBar\",\"id\":\"p2388\",\"attributes\":{\"x\":{\"type\":\"field\",\"field\":\"Region\"},\"width\":{\"type\":\"value\",\"value\":0.9},\"bottom\":{\"type\":\"expr\",\"expr\":{\"id\":\"p2369\"}},\"top\":{\"type\":\"expr\",\"expr\":{\"id\":\"p2370\"}},\"line_color\":{\"type\":\"value\",\"value\":\"red\"},\"line_alpha\":{\"type\":\"value\",\"value\":0.2},\"fill_color\":{\"type\":\"value\",\"value\":\"red\"},\"fill_alpha\":{\"type\":\"value\",\"value\":0.2},\"hatch_color\":{\"type\":\"value\",\"value\":\"red\"},\"hatch_alpha\":{\"type\":\"value\",\"value\":0.2}}}}},{\"type\":\"object\",\"name\":\"GlyphRenderer\",\"id\":\"p2402\",\"attributes\":{\"name\":\"Diversification\",\"data_source\":{\"type\":\"object\",\"name\":\"ColumnDataSource\",\"id\":\"p2392\",\"attributes\":{\"selected\":{\"type\":\"object\",\"name\":\"Selection\",\"id\":\"p2393\",\"attributes\":{\"indices\":[],\"line_indices\":[]}},\"selection_policy\":{\"type\":\"object\",\"name\":\"UnionRenderers\",\"id\":\"p2394\"},\"data\":{\"type\":\"map\",\"entries\":[[\"index\",{\"type\":\"ndarray\",\"array\":{\"type\":\"bytes\",\"data\":\"AgAAAAkAAAAQAAAAFwAAAB4AAAA=\"},\"shape\":[5],\"dtype\":\"int32\",\"order\":\"little\"}],[\"Region\",{\"type\":\"ndarray\",\"array\":[\"Ecuador\",\"Belarus\",\"Tunicia\",\"Uruguay\",\"Vietnam\"],\"shape\":[5],\"dtype\":\"object\",\"order\":\"little\"}],[\"Efficiency\",{\"type\":\"ndarray\",\"array\":{\"type\":\"bytes\",\"data\":\"4KYIT9JU/j+bnYUtWQgMQGn1d/KluxFAxLlCS4y+HkAvxuBz//fIPw==\"},\"shape\":[5],\"dtype\":\"float64\",\"order\":\"little\"}],[\"Diversification\",{\"type\":\"ndarray\",\"array\":{\"type\":\"bytes\",\"data\":\"+dqIdekx7z84talNbWoDQIjJFcTkCgBA7RZ+NSbSA0AVc6szUjEHQA==\"},\"shape\":[5],\"dtype\":\"float64\",\"order\":\"little\"}],[\"Quality\",{\"type\":\"ndarray\",\"array\":{\"type\":\"bytes\",\"data\":\"+xxSE4y3AkAJRShCEYoaQAticgUxuRRANSbSA5WzKkA/WQKb9pMnQA==\"},\"shape\":[5],\"dtype\":\"float64\",\"order\":\"little\"}],[\"Internationalization\",{\"type\":\"ndarray\",\"array\":{\"type\":\"bytes\",\"data\":\"SE0w3so+9z+hCEUoQhH6P64gJlcQk/c/QeXsFn41EEBC9PguHEQPQA==\"},\"shape\":[5],\"dtype\":\"float64\",\"order\":\"little\"}],[\"Time\",{\"type\":\"ndarray\",\"array\":{\"type\":\"bytes\",\"data\":\"8/faiHXpEUDsXve6170nQJMriMkVxBRAw6/GRHogOED5LhxEj+80QA==\"},\"shape\":[5],\"dtype\":\"float64\",\"order\":\"little\"}]]}}},\"view\":{\"type\":\"object\",\"name\":\"CDSView\",\"id\":\"p2403\",\"attributes\":{\"filter\":{\"type\":\"object\",\"name\":\"AllIndices\",\"id\":\"p2404\"}}},\"glyph\":{\"type\":\"object\",\"name\":\"VBar\",\"id\":\"p2398\",\"attributes\":{\"x\":{\"type\":\"field\",\"field\":\"Region\"},\"width\":{\"type\":\"value\",\"value\":0.9},\"bottom\":{\"type\":\"expr\",\"expr\":{\"type\":\"object\",\"name\":\"Stack\",\"id\":\"p2371\",\"attributes\":{\"fields\":[\"Efficiency\"]}}},\"top\":{\"type\":\"expr\",\"expr\":{\"type\":\"object\",\"name\":\"Stack\",\"id\":\"p2372\",\"attributes\":{\"fields\":[\"Efficiency\",\"Diversification\"]}}},\"line_color\":{\"type\":\"value\",\"value\":\"blue\"},\"line_alpha\":{\"type\":\"value\",\"value\":0.75},\"fill_color\":{\"type\":\"value\",\"value\":\"blue\"},\"fill_alpha\":{\"type\":\"value\",\"value\":0.75},\"hatch_color\":{\"type\":\"value\",\"value\":\"blue\"},\"hatch_alpha\":{\"type\":\"value\",\"value\":0.75}}},\"nonselection_glyph\":{\"type\":\"object\",\"name\":\"VBar\",\"id\":\"p2399\",\"attributes\":{\"x\":{\"type\":\"field\",\"field\":\"Region\"},\"width\":{\"type\":\"value\",\"value\":0.9},\"bottom\":{\"type\":\"expr\",\"expr\":{\"id\":\"p2371\"}},\"top\":{\"type\":\"expr\",\"expr\":{\"id\":\"p2372\"}},\"line_color\":{\"type\":\"value\",\"value\":\"blue\"},\"line_alpha\":{\"type\":\"value\",\"value\":0.1},\"fill_color\":{\"type\":\"value\",\"value\":\"blue\"},\"fill_alpha\":{\"type\":\"value\",\"value\":0.1},\"hatch_color\":{\"type\":\"value\",\"value\":\"blue\"},\"hatch_alpha\":{\"type\":\"value\",\"value\":0.1}}},\"hover_glyph\":{\"type\":\"object\",\"name\":\"VBar\",\"id\":\"p2400\",\"attributes\":{\"x\":{\"type\":\"field\",\"field\":\"Region\"},\"width\":{\"type\":\"value\",\"value\":0.9},\"bottom\":{\"type\":\"expr\",\"expr\":{\"id\":\"p2371\"}},\"top\":{\"type\":\"expr\",\"expr\":{\"id\":\"p2372\"}},\"line_color\":{\"type\":\"value\",\"value\":\"blue\"},\"fill_color\":{\"type\":\"value\",\"value\":\"blue\"},\"hatch_color\":{\"type\":\"value\",\"value\":\"blue\"}}},\"muted_glyph\":{\"type\":\"object\",\"name\":\"VBar\",\"id\":\"p2401\",\"attributes\":{\"x\":{\"type\":\"field\",\"field\":\"Region\"},\"width\":{\"type\":\"value\",\"value\":0.9},\"bottom\":{\"type\":\"expr\",\"expr\":{\"id\":\"p2371\"}},\"top\":{\"type\":\"expr\",\"expr\":{\"id\":\"p2372\"}},\"line_color\":{\"type\":\"value\",\"value\":\"blue\"},\"line_alpha\":{\"type\":\"value\",\"value\":0.2},\"fill_color\":{\"type\":\"value\",\"value\":\"blue\"},\"fill_alpha\":{\"type\":\"value\",\"value\":0.2},\"hatch_color\":{\"type\":\"value\",\"value\":\"blue\"},\"hatch_alpha\":{\"type\":\"value\",\"value\":0.2}}}}},{\"type\":\"object\",\"name\":\"GlyphRenderer\",\"id\":\"p2415\",\"attributes\":{\"name\":\"Quality\",\"data_source\":{\"type\":\"object\",\"name\":\"ColumnDataSource\",\"id\":\"p2405\",\"attributes\":{\"selected\":{\"type\":\"object\",\"name\":\"Selection\",\"id\":\"p2406\",\"attributes\":{\"indices\":[],\"line_indices\":[]}},\"selection_policy\":{\"type\":\"object\",\"name\":\"UnionRenderers\",\"id\":\"p2407\"},\"data\":{\"type\":\"map\",\"entries\":[[\"index\",{\"type\":\"ndarray\",\"array\":{\"type\":\"bytes\",\"data\":\"AgAAAAkAAAAQAAAAFwAAAB4AAAA=\"},\"shape\":[5],\"dtype\":\"int32\",\"order\":\"little\"}],[\"Region\",{\"type\":\"ndarray\",\"array\":[\"Ecuador\",\"Belarus\",\"Tunicia\",\"Uruguay\",\"Vietnam\"],\"shape\":[5],\"dtype\":\"object\",\"order\":\"little\"}],[\"Efficiency\",{\"type\":\"ndarray\",\"array\":{\"type\":\"bytes\",\"data\":\"4KYIT9JU/j+bnYUtWQgMQGn1d/KluxFAxLlCS4y+HkAvxuBz//fIPw==\"},\"shape\":[5],\"dtype\":\"float64\",\"order\":\"little\"}],[\"Diversification\",{\"type\":\"ndarray\",\"array\":{\"type\":\"bytes\",\"data\":\"+dqIdekx7z84talNbWoDQIjJFcTkCgBA7RZ+NSbSA0AVc6szUjEHQA==\"},\"shape\":[5],\"dtype\":\"float64\",\"order\":\"little\"}],[\"Quality\",{\"type\":\"ndarray\",\"array\":{\"type\":\"bytes\",\"data\":\"+xxSE4y3AkAJRShCEYoaQAticgUxuRRANSbSA5WzKkA/WQKb9pMnQA==\"},\"shape\":[5],\"dtype\":\"float64\",\"order\":\"little\"}],[\"Internationalization\",{\"type\":\"ndarray\",\"array\":{\"type\":\"bytes\",\"data\":\"SE0w3so+9z+hCEUoQhH6P64gJlcQk/c/QeXsFn41EEBC9PguHEQPQA==\"},\"shape\":[5],\"dtype\":\"float64\",\"order\":\"little\"}],[\"Time\",{\"type\":\"ndarray\",\"array\":{\"type\":\"bytes\",\"data\":\"8/faiHXpEUDsXve6170nQJMriMkVxBRAw6/GRHogOED5LhxEj+80QA==\"},\"shape\":[5],\"dtype\":\"float64\",\"order\":\"little\"}]]}}},\"view\":{\"type\":\"object\",\"name\":\"CDSView\",\"id\":\"p2416\",\"attributes\":{\"filter\":{\"type\":\"object\",\"name\":\"AllIndices\",\"id\":\"p2417\"}}},\"glyph\":{\"type\":\"object\",\"name\":\"VBar\",\"id\":\"p2411\",\"attributes\":{\"x\":{\"type\":\"field\",\"field\":\"Region\"},\"width\":{\"type\":\"value\",\"value\":0.9},\"bottom\":{\"type\":\"expr\",\"expr\":{\"type\":\"object\",\"name\":\"Stack\",\"id\":\"p2373\",\"attributes\":{\"fields\":[\"Efficiency\",\"Diversification\"]}}},\"top\":{\"type\":\"expr\",\"expr\":{\"type\":\"object\",\"name\":\"Stack\",\"id\":\"p2374\",\"attributes\":{\"fields\":[\"Efficiency\",\"Diversification\",\"Quality\"]}}},\"line_color\":{\"type\":\"value\",\"value\":\"green\"},\"line_alpha\":{\"type\":\"value\",\"value\":0.75},\"fill_color\":{\"type\":\"value\",\"value\":\"green\"},\"fill_alpha\":{\"type\":\"value\",\"value\":0.75},\"hatch_color\":{\"type\":\"value\",\"value\":\"green\"},\"hatch_alpha\":{\"type\":\"value\",\"value\":0.75}}},\"nonselection_glyph\":{\"type\":\"object\",\"name\":\"VBar\",\"id\":\"p2412\",\"attributes\":{\"x\":{\"type\":\"field\",\"field\":\"Region\"},\"width\":{\"type\":\"value\",\"value\":0.9},\"bottom\":{\"type\":\"expr\",\"expr\":{\"id\":\"p2373\"}},\"top\":{\"type\":\"expr\",\"expr\":{\"id\":\"p2374\"}},\"line_color\":{\"type\":\"value\",\"value\":\"green\"},\"line_alpha\":{\"type\":\"value\",\"value\":0.1},\"fill_color\":{\"type\":\"value\",\"value\":\"green\"},\"fill_alpha\":{\"type\":\"value\",\"value\":0.1},\"hatch_color\":{\"type\":\"value\",\"value\":\"green\"},\"hatch_alpha\":{\"type\":\"value\",\"value\":0.1}}},\"hover_glyph\":{\"type\":\"object\",\"name\":\"VBar\",\"id\":\"p2413\",\"attributes\":{\"x\":{\"type\":\"field\",\"field\":\"Region\"},\"width\":{\"type\":\"value\",\"value\":0.9},\"bottom\":{\"type\":\"expr\",\"expr\":{\"id\":\"p2373\"}},\"top\":{\"type\":\"expr\",\"expr\":{\"id\":\"p2374\"}},\"line_color\":{\"type\":\"value\",\"value\":\"green\"},\"fill_color\":{\"type\":\"value\",\"value\":\"green\"},\"hatch_color\":{\"type\":\"value\",\"value\":\"green\"}}},\"muted_glyph\":{\"type\":\"object\",\"name\":\"VBar\",\"id\":\"p2414\",\"attributes\":{\"x\":{\"type\":\"field\",\"field\":\"Region\"},\"width\":{\"type\":\"value\",\"value\":0.9},\"bottom\":{\"type\":\"expr\",\"expr\":{\"id\":\"p2373\"}},\"top\":{\"type\":\"expr\",\"expr\":{\"id\":\"p2374\"}},\"line_color\":{\"type\":\"value\",\"value\":\"green\"},\"line_alpha\":{\"type\":\"value\",\"value\":0.2},\"fill_color\":{\"type\":\"value\",\"value\":\"green\"},\"fill_alpha\":{\"type\":\"value\",\"value\":0.2},\"hatch_color\":{\"type\":\"value\",\"value\":\"green\"},\"hatch_alpha\":{\"type\":\"value\",\"value\":0.2}}}}},{\"type\":\"object\",\"name\":\"GlyphRenderer\",\"id\":\"p2428\",\"attributes\":{\"name\":\"Internationalization\",\"data_source\":{\"type\":\"object\",\"name\":\"ColumnDataSource\",\"id\":\"p2418\",\"attributes\":{\"selected\":{\"type\":\"object\",\"name\":\"Selection\",\"id\":\"p2419\",\"attributes\":{\"indices\":[],\"line_indices\":[]}},\"selection_policy\":{\"type\":\"object\",\"name\":\"UnionRenderers\",\"id\":\"p2420\"},\"data\":{\"type\":\"map\",\"entries\":[[\"index\",{\"type\":\"ndarray\",\"array\":{\"type\":\"bytes\",\"data\":\"AgAAAAkAAAAQAAAAFwAAAB4AAAA=\"},\"shape\":[5],\"dtype\":\"int32\",\"order\":\"little\"}],[\"Region\",{\"type\":\"ndarray\",\"array\":[\"Ecuador\",\"Belarus\",\"Tunicia\",\"Uruguay\",\"Vietnam\"],\"shape\":[5],\"dtype\":\"object\",\"order\":\"little\"}],[\"Efficiency\",{\"type\":\"ndarray\",\"array\":{\"type\":\"bytes\",\"data\":\"4KYIT9JU/j+bnYUtWQgMQGn1d/KluxFAxLlCS4y+HkAvxuBz//fIPw==\"},\"shape\":[5],\"dtype\":\"float64\",\"order\":\"little\"}],[\"Diversification\",{\"type\":\"ndarray\",\"array\":{\"type\":\"bytes\",\"data\":\"+dqIdekx7z84talNbWoDQIjJFcTkCgBA7RZ+NSbSA0AVc6szUjEHQA==\"},\"shape\":[5],\"dtype\":\"float64\",\"order\":\"little\"}],[\"Quality\",{\"type\":\"ndarray\",\"array\":{\"type\":\"bytes\",\"data\":\"+xxSE4y3AkAJRShCEYoaQAticgUxuRRANSbSA5WzKkA/WQKb9pMnQA==\"},\"shape\":[5],\"dtype\":\"float64\",\"order\":\"little\"}],[\"Internationalization\",{\"type\":\"ndarray\",\"array\":{\"type\":\"bytes\",\"data\":\"SE0w3so+9z+hCEUoQhH6P64gJlcQk/c/QeXsFn41EEBC9PguHEQPQA==\"},\"shape\":[5],\"dtype\":\"float64\",\"order\":\"little\"}],[\"Time\",{\"type\":\"ndarray\",\"array\":{\"type\":\"bytes\",\"data\":\"8/faiHXpEUDsXve6170nQJMriMkVxBRAw6/GRHogOED5LhxEj+80QA==\"},\"shape\":[5],\"dtype\":\"float64\",\"order\":\"little\"}]]}}},\"view\":{\"type\":\"object\",\"name\":\"CDSView\",\"id\":\"p2429\",\"attributes\":{\"filter\":{\"type\":\"object\",\"name\":\"AllIndices\",\"id\":\"p2430\"}}},\"glyph\":{\"type\":\"object\",\"name\":\"VBar\",\"id\":\"p2424\",\"attributes\":{\"x\":{\"type\":\"field\",\"field\":\"Region\"},\"width\":{\"type\":\"value\",\"value\":0.9},\"bottom\":{\"type\":\"expr\",\"expr\":{\"type\":\"object\",\"name\":\"Stack\",\"id\":\"p2375\",\"attributes\":{\"fields\":[\"Efficiency\",\"Diversification\",\"Quality\"]}}},\"top\":{\"type\":\"expr\",\"expr\":{\"type\":\"object\",\"name\":\"Stack\",\"id\":\"p2376\",\"attributes\":{\"fields\":[\"Efficiency\",\"Diversification\",\"Quality\",\"Internationalization\"]}}},\"line_color\":{\"type\":\"value\",\"value\":\"orange\"},\"line_alpha\":{\"type\":\"value\",\"value\":0.75},\"fill_color\":{\"type\":\"value\",\"value\":\"orange\"},\"fill_alpha\":{\"type\":\"value\",\"value\":0.75},\"hatch_color\":{\"type\":\"value\",\"value\":\"orange\"},\"hatch_alpha\":{\"type\":\"value\",\"value\":0.75}}},\"nonselection_glyph\":{\"type\":\"object\",\"name\":\"VBar\",\"id\":\"p2425\",\"attributes\":{\"x\":{\"type\":\"field\",\"field\":\"Region\"},\"width\":{\"type\":\"value\",\"value\":0.9},\"bottom\":{\"type\":\"expr\",\"expr\":{\"id\":\"p2375\"}},\"top\":{\"type\":\"expr\",\"expr\":{\"id\":\"p2376\"}},\"line_color\":{\"type\":\"value\",\"value\":\"orange\"},\"line_alpha\":{\"type\":\"value\",\"value\":0.1},\"fill_color\":{\"type\":\"value\",\"value\":\"orange\"},\"fill_alpha\":{\"type\":\"value\",\"value\":0.1},\"hatch_color\":{\"type\":\"value\",\"value\":\"orange\"},\"hatch_alpha\":{\"type\":\"value\",\"value\":0.1}}},\"hover_glyph\":{\"type\":\"object\",\"name\":\"VBar\",\"id\":\"p2426\",\"attributes\":{\"x\":{\"type\":\"field\",\"field\":\"Region\"},\"width\":{\"type\":\"value\",\"value\":0.9},\"bottom\":{\"type\":\"expr\",\"expr\":{\"id\":\"p2375\"}},\"top\":{\"type\":\"expr\",\"expr\":{\"id\":\"p2376\"}},\"line_color\":{\"type\":\"value\",\"value\":\"orange\"},\"fill_color\":{\"type\":\"value\",\"value\":\"orange\"},\"hatch_color\":{\"type\":\"value\",\"value\":\"orange\"}}},\"muted_glyph\":{\"type\":\"object\",\"name\":\"VBar\",\"id\":\"p2427\",\"attributes\":{\"x\":{\"type\":\"field\",\"field\":\"Region\"},\"width\":{\"type\":\"value\",\"value\":0.9},\"bottom\":{\"type\":\"expr\",\"expr\":{\"id\":\"p2375\"}},\"top\":{\"type\":\"expr\",\"expr\":{\"id\":\"p2376\"}},\"line_color\":{\"type\":\"value\",\"value\":\"orange\"},\"line_alpha\":{\"type\":\"value\",\"value\":0.2},\"fill_color\":{\"type\":\"value\",\"value\":\"orange\"},\"fill_alpha\":{\"type\":\"value\",\"value\":0.2},\"hatch_color\":{\"type\":\"value\",\"value\":\"orange\"},\"hatch_alpha\":{\"type\":\"value\",\"value\":0.2}}}}},{\"type\":\"object\",\"name\":\"GlyphRenderer\",\"id\":\"p2441\",\"attributes\":{\"name\":\"Time\",\"data_source\":{\"type\":\"object\",\"name\":\"ColumnDataSource\",\"id\":\"p2431\",\"attributes\":{\"selected\":{\"type\":\"object\",\"name\":\"Selection\",\"id\":\"p2432\",\"attributes\":{\"indices\":[],\"line_indices\":[]}},\"selection_policy\":{\"type\":\"object\",\"name\":\"UnionRenderers\",\"id\":\"p2433\"},\"data\":{\"type\":\"map\",\"entries\":[[\"index\",{\"type\":\"ndarray\",\"array\":{\"type\":\"bytes\",\"data\":\"AgAAAAkAAAAQAAAAFwAAAB4AAAA=\"},\"shape\":[5],\"dtype\":\"int32\",\"order\":\"little\"}],[\"Region\",{\"type\":\"ndarray\",\"array\":[\"Ecuador\",\"Belarus\",\"Tunicia\",\"Uruguay\",\"Vietnam\"],\"shape\":[5],\"dtype\":\"object\",\"order\":\"little\"}],[\"Efficiency\",{\"type\":\"ndarray\",\"array\":{\"type\":\"bytes\",\"data\":\"4KYIT9JU/j+bnYUtWQgMQGn1d/KluxFAxLlCS4y+HkAvxuBz//fIPw==\"},\"shape\":[5],\"dtype\":\"float64\",\"order\":\"little\"}],[\"Diversification\",{\"type\":\"ndarray\",\"array\":{\"type\":\"bytes\",\"data\":\"+dqIdekx7z84talNbWoDQIjJFcTkCgBA7RZ+NSbSA0AVc6szUjEHQA==\"},\"shape\":[5],\"dtype\":\"float64\",\"order\":\"little\"}],[\"Quality\",{\"type\":\"ndarray\",\"array\":{\"type\":\"bytes\",\"data\":\"+xxSE4y3AkAJRShCEYoaQAticgUxuRRANSbSA5WzKkA/WQKb9pMnQA==\"},\"shape\":[5],\"dtype\":\"float64\",\"order\":\"little\"}],[\"Internationalization\",{\"type\":\"ndarray\",\"array\":{\"type\":\"bytes\",\"data\":\"SE0w3so+9z+hCEUoQhH6P64gJlcQk/c/QeXsFn41EEBC9PguHEQPQA==\"},\"shape\":[5],\"dtype\":\"float64\",\"order\":\"little\"}],[\"Time\",{\"type\":\"ndarray\",\"array\":{\"type\":\"bytes\",\"data\":\"8/faiHXpEUDsXve6170nQJMriMkVxBRAw6/GRHogOED5LhxEj+80QA==\"},\"shape\":[5],\"dtype\":\"float64\",\"order\":\"little\"}]]}}},\"view\":{\"type\":\"object\",\"name\":\"CDSView\",\"id\":\"p2442\",\"attributes\":{\"filter\":{\"type\":\"object\",\"name\":\"AllIndices\",\"id\":\"p2443\"}}},\"glyph\":{\"type\":\"object\",\"name\":\"VBar\",\"id\":\"p2437\",\"attributes\":{\"x\":{\"type\":\"field\",\"field\":\"Region\"},\"width\":{\"type\":\"value\",\"value\":0.9},\"bottom\":{\"type\":\"expr\",\"expr\":{\"type\":\"object\",\"name\":\"Stack\",\"id\":\"p2377\",\"attributes\":{\"fields\":[\"Efficiency\",\"Diversification\",\"Quality\",\"Internationalization\"]}}},\"top\":{\"type\":\"expr\",\"expr\":{\"type\":\"object\",\"name\":\"Stack\",\"id\":\"p2378\",\"attributes\":{\"fields\":[\"Efficiency\",\"Diversification\",\"Quality\",\"Internationalization\",\"Time\"]}}},\"line_color\":{\"type\":\"value\",\"value\":\"purple\"},\"line_alpha\":{\"type\":\"value\",\"value\":0.75},\"fill_color\":{\"type\":\"value\",\"value\":\"purple\"},\"fill_alpha\":{\"type\":\"value\",\"value\":0.75},\"hatch_color\":{\"type\":\"value\",\"value\":\"purple\"},\"hatch_alpha\":{\"type\":\"value\",\"value\":0.75}}},\"nonselection_glyph\":{\"type\":\"object\",\"name\":\"VBar\",\"id\":\"p2438\",\"attributes\":{\"x\":{\"type\":\"field\",\"field\":\"Region\"},\"width\":{\"type\":\"value\",\"value\":0.9},\"bottom\":{\"type\":\"expr\",\"expr\":{\"id\":\"p2377\"}},\"top\":{\"type\":\"expr\",\"expr\":{\"id\":\"p2378\"}},\"line_color\":{\"type\":\"value\",\"value\":\"purple\"},\"line_alpha\":{\"type\":\"value\",\"value\":0.1},\"fill_color\":{\"type\":\"value\",\"value\":\"purple\"},\"fill_alpha\":{\"type\":\"value\",\"value\":0.1},\"hatch_color\":{\"type\":\"value\",\"value\":\"purple\"},\"hatch_alpha\":{\"type\":\"value\",\"value\":0.1}}},\"hover_glyph\":{\"type\":\"object\",\"name\":\"VBar\",\"id\":\"p2439\",\"attributes\":{\"x\":{\"type\":\"field\",\"field\":\"Region\"},\"width\":{\"type\":\"value\",\"value\":0.9},\"bottom\":{\"type\":\"expr\",\"expr\":{\"id\":\"p2377\"}},\"top\":{\"type\":\"expr\",\"expr\":{\"id\":\"p2378\"}},\"line_color\":{\"type\":\"value\",\"value\":\"purple\"},\"fill_color\":{\"type\":\"value\",\"value\":\"purple\"},\"hatch_color\":{\"type\":\"value\",\"value\":\"purple\"}}},\"muted_glyph\":{\"type\":\"object\",\"name\":\"VBar\",\"id\":\"p2440\",\"attributes\":{\"x\":{\"type\":\"field\",\"field\":\"Region\"},\"width\":{\"type\":\"value\",\"value\":0.9},\"bottom\":{\"type\":\"expr\",\"expr\":{\"id\":\"p2377\"}},\"top\":{\"type\":\"expr\",\"expr\":{\"id\":\"p2378\"}},\"line_color\":{\"type\":\"value\",\"value\":\"purple\"},\"line_alpha\":{\"type\":\"value\",\"value\":0.2},\"fill_color\":{\"type\":\"value\",\"value\":\"purple\"},\"fill_alpha\":{\"type\":\"value\",\"value\":0.2},\"hatch_color\":{\"type\":\"value\",\"value\":\"purple\"},\"hatch_alpha\":{\"type\":\"value\",\"value\":0.2}}}}}],\"toolbar\":{\"type\":\"object\",\"name\":\"Toolbar\",\"id\":\"p2354\",\"attributes\":{\"tools\":[{\"type\":\"object\",\"name\":\"HoverTool\",\"id\":\"p2368\",\"attributes\":{\"renderers\":\"auto\",\"tooltips\":\"$name: @$name\"}}]}},\"toolbar_location\":null,\"left\":[{\"type\":\"object\",\"name\":\"LinearAxis\",\"id\":\"p2363\",\"attributes\":{\"ticker\":{\"type\":\"object\",\"name\":\"BasicTicker\",\"id\":\"p2364\",\"attributes\":{\"mantissas\":[1,2,5]}},\"formatter\":{\"type\":\"object\",\"name\":\"BasicTickFormatter\",\"id\":\"p2365\"},\"major_label_policy\":{\"type\":\"object\",\"name\":\"AllLabels\",\"id\":\"p2366\"},\"minor_tick_line_color\":null}}],\"right\":[{\"type\":\"object\",\"name\":\"Legend\",\"id\":\"p2449\",\"attributes\":{\"click_policy\":\"mute\",\"items\":[{\"type\":\"object\",\"name\":\"LegendItem\",\"id\":\"p2444\",\"attributes\":{\"label\":{\"type\":\"value\",\"value\":\"Efficiency\"},\"renderers\":[{\"id\":\"p2389\"}],\"index\":0}},{\"type\":\"object\",\"name\":\"LegendItem\",\"id\":\"p2445\",\"attributes\":{\"label\":{\"type\":\"value\",\"value\":\"Diversification\"},\"renderers\":[{\"id\":\"p2402\"}],\"index\":0}},{\"type\":\"object\",\"name\":\"LegendItem\",\"id\":\"p2446\",\"attributes\":{\"label\":{\"type\":\"value\",\"value\":\"Quality\"},\"renderers\":[{\"id\":\"p2415\"}],\"index\":0}},{\"type\":\"object\",\"name\":\"LegendItem\",\"id\":\"p2447\",\"attributes\":{\"label\":{\"type\":\"value\",\"value\":\"Internationalization\"},\"renderers\":[{\"id\":\"p2428\"}],\"index\":0}},{\"type\":\"object\",\"name\":\"LegendItem\",\"id\":\"p2448\",\"attributes\":{\"label\":{\"type\":\"value\",\"value\":\"Time\"},\"renderers\":[{\"id\":\"p2441\"}],\"index\":0}}]}}],\"below\":[{\"type\":\"object\",\"name\":\"CategoricalAxis\",\"id\":\"p2358\",\"attributes\":{\"ticker\":{\"type\":\"object\",\"name\":\"CategoricalTicker\",\"id\":\"p2359\"},\"formatter\":{\"type\":\"object\",\"name\":\"CategoricalTickFormatter\",\"id\":\"p2360\"},\"major_label_policy\":{\"type\":\"object\",\"name\":\"AllLabels\",\"id\":\"p2361\"},\"minor_tick_line_color\":null}}],\"center\":[{\"type\":\"object\",\"name\":\"Grid\",\"id\":\"p2362\",\"attributes\":{\"axis\":{\"id\":\"p2358\"},\"grid_line_color\":null}},{\"type\":\"object\",\"name\":\"Grid\",\"id\":\"p2367\",\"attributes\":{\"dimension\":1,\"axis\":{\"id\":\"p2363\"}}}]}}]}};\n  const render_items = [{\"docid\":\"d54d5b93-4296-4a72-bd73-4b1ced62d957\",\"roots\":{\"p2345\":\"d79b7aa3-6ec8-4dfc-af63-5ec6c62a5435\"},\"root_ids\":[\"p2345\"]}];\n  void root.Bokeh.embed.embed_items_notebook(docs_json, render_items);\n  }\n  if (root.Bokeh !== undefined) {\n    embed_document(root);\n  } else {\n    let attempts = 0;\n    const timer = setInterval(function(root) {\n      if (root.Bokeh !== undefined) {\n        clearInterval(timer);\n        embed_document(root);\n      } else {\n        attempts++;\n        if (attempts > 100) {\n          clearInterval(timer);\n          console.log(\"Bokeh: ERROR: Unable to run BokehJS code because BokehJS library is missing\");\n        }\n      }\n    }, 10, root)\n  }\n})(window);",
      "application/vnd.bokehjs_exec.v0+json": ""
     },
     "metadata": {
      "application/vnd.bokehjs_exec.v0+json": {
       "id": "p2345"
      }
     },
     "output_type": "display_data"
    }
   ],
   "source": [
    "stackedBarGraph(df_IPI, region_name, year=2019)"
   ]
  },
  {
   "cell_type": "code",
   "execution_count": 20,
   "metadata": {},
   "outputs": [
    {
     "data": {
      "application/vnd.jupyter.widget-view+json": {
       "model_id": "95df01f71a434ad4805eeb6f2d8d5279",
       "version_major": 2,
       "version_minor": 0
      },
      "text/plain": [
       "interactive(children=(Dropdown(description='Area: ', options=('All', 'Ecuador', 'Belarus', 'Tunicia', 'Uruguay…"
      ]
     },
     "execution_count": 20,
     "metadata": {},
     "output_type": "execute_result"
    }
   ],
   "source": [
    "def interactive_radar(area, year, zoom_slider):\n",
    "    \"\"\"\n",
    "    Inputs widgets into complexRadarChart\n",
    "    \"\"\"\n",
    "    # Prints interactive radar chart\n",
    "    complexRadarChart(area=area, year=year, slider=zoom_slider, df_IPI=df_IPI, region_code=region_code, region_colors=region_colors, region_name=region_name)\n",
    "\n",
    "interactive(interactive_radar, area=areas, year=years, zoom_slider=zoom_slider)"
   ]
  }
 ],
 "metadata": {
  "kernelspec": {
   "display_name": "Python 3 (ipykernel)",
   "language": "python",
   "name": "python3"
  },
  "language_info": {
   "codemirror_mode": {
    "name": "ipython",
    "version": 3
   },
   "file_extension": ".py",
   "mimetype": "text/x-python",
   "name": "python",
   "nbconvert_exporter": "python",
   "pygments_lexer": "ipython3",
   "version": "3.10.1"
  }
 },
 "nbformat": 4,
 "nbformat_minor": 2
}
